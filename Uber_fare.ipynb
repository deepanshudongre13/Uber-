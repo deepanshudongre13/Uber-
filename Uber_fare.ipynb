{
 "cells": [
  {
   "cell_type": "markdown",
   "metadata": {
    "executionInfo": {
     "elapsed": 778,
     "status": "ok",
     "timestamp": 1721652329976,
     "user": {
      "displayName": "Tarun Nagar",
      "userId": "01260025781542848308"
     },
     "user_tz": -330
    },
    "id": "sKQH9jZE-_SE"
   },
   "source": [
    "\n",
    "import numpy as np\n",
    "import pandas as pd\n",
    "import matplotlib.pyplot as plt\n",
    "import seaborn as sns\n",
    "import warnings\n",
    "warnings.filterwarnings('ignore')"
   ]
  },
  {
   "cell_type": "markdown",
   "metadata": {},
   "source": [
    "# Importing all the Necessary Library.."
   ]
  },
  {
   "cell_type": "code",
   "execution_count": 1,
   "metadata": {},
   "outputs": [],
   "source": [
    "import numpy as np\n",
    "import pandas as pd\n",
    "import matplotlib.pyplot as plt\n",
    "import seaborn as sns\n",
    "import warnings\n",
    "warnings.filterwarnings('ignore')"
   ]
  },
  {
   "cell_type": "code",
   "execution_count": 2,
   "metadata": {},
   "outputs": [],
   "source": [
    "df = pd.read_csv('uber.csv')"
   ]
  },
  {
   "cell_type": "code",
   "execution_count": 3,
   "metadata": {
    "colab": {
     "base_uri": "https://localhost:8080/",
     "height": 554
    },
    "executionInfo": {
     "elapsed": 650,
     "status": "ok",
     "timestamp": 1721652396344,
     "user": {
      "displayName": "Tarun Nagar",
      "userId": "01260025781542848308"
     },
     "user_tz": -330
    },
    "id": "JM_OElV0AKwP",
    "outputId": "ba6eb50f-911f-4042-d96c-6e012590353b"
   },
   "outputs": [
    {
     "data": {
      "text/html": [
       "<div>\n",
       "<style scoped>\n",
       "    .dataframe tbody tr th:only-of-type {\n",
       "        vertical-align: middle;\n",
       "    }\n",
       "\n",
       "    .dataframe tbody tr th {\n",
       "        vertical-align: top;\n",
       "    }\n",
       "\n",
       "    .dataframe thead th {\n",
       "        text-align: right;\n",
       "    }\n",
       "</style>\n",
       "<table border=\"1\" class=\"dataframe\">\n",
       "  <thead>\n",
       "    <tr style=\"text-align: right;\">\n",
       "      <th></th>\n",
       "      <th>Unnamed: 0</th>\n",
       "      <th>key</th>\n",
       "      <th>fare_amount</th>\n",
       "      <th>pickup_datetime</th>\n",
       "      <th>pickup_longitude</th>\n",
       "      <th>pickup_latitude</th>\n",
       "      <th>dropoff_longitude</th>\n",
       "      <th>dropoff_latitude</th>\n",
       "      <th>passenger_count</th>\n",
       "    </tr>\n",
       "  </thead>\n",
       "  <tbody>\n",
       "    <tr>\n",
       "      <th>0</th>\n",
       "      <td>24238194</td>\n",
       "      <td>2015-05-07 19:52:06.0000003</td>\n",
       "      <td>7.5</td>\n",
       "      <td>2015-05-07 19:52:06 UTC</td>\n",
       "      <td>-73.999817</td>\n",
       "      <td>40.738354</td>\n",
       "      <td>-73.999512</td>\n",
       "      <td>40.723217</td>\n",
       "      <td>1</td>\n",
       "    </tr>\n",
       "    <tr>\n",
       "      <th>1</th>\n",
       "      <td>27835199</td>\n",
       "      <td>2009-07-17 20:04:56.0000002</td>\n",
       "      <td>7.7</td>\n",
       "      <td>2009-07-17 20:04:56 UTC</td>\n",
       "      <td>-73.994355</td>\n",
       "      <td>40.728225</td>\n",
       "      <td>-73.994710</td>\n",
       "      <td>40.750325</td>\n",
       "      <td>1</td>\n",
       "    </tr>\n",
       "    <tr>\n",
       "      <th>2</th>\n",
       "      <td>44984355</td>\n",
       "      <td>2009-08-24 21:45:00.00000061</td>\n",
       "      <td>12.9</td>\n",
       "      <td>2009-08-24 21:45:00 UTC</td>\n",
       "      <td>-74.005043</td>\n",
       "      <td>40.740770</td>\n",
       "      <td>-73.962565</td>\n",
       "      <td>40.772647</td>\n",
       "      <td>1</td>\n",
       "    </tr>\n",
       "    <tr>\n",
       "      <th>3</th>\n",
       "      <td>25894730</td>\n",
       "      <td>2009-06-26 08:22:21.0000001</td>\n",
       "      <td>5.3</td>\n",
       "      <td>2009-06-26 08:22:21 UTC</td>\n",
       "      <td>-73.976124</td>\n",
       "      <td>40.790844</td>\n",
       "      <td>-73.965316</td>\n",
       "      <td>40.803349</td>\n",
       "      <td>3</td>\n",
       "    </tr>\n",
       "    <tr>\n",
       "      <th>4</th>\n",
       "      <td>17610152</td>\n",
       "      <td>2014-08-28 17:47:00.000000188</td>\n",
       "      <td>16.0</td>\n",
       "      <td>2014-08-28 17:47:00 UTC</td>\n",
       "      <td>-73.925023</td>\n",
       "      <td>40.744085</td>\n",
       "      <td>-73.973082</td>\n",
       "      <td>40.761247</td>\n",
       "      <td>5</td>\n",
       "    </tr>\n",
       "  </tbody>\n",
       "</table>\n",
       "</div>"
      ],
      "text/plain": [
       "   Unnamed: 0                            key  fare_amount  \\\n",
       "0    24238194    2015-05-07 19:52:06.0000003          7.5   \n",
       "1    27835199    2009-07-17 20:04:56.0000002          7.7   \n",
       "2    44984355   2009-08-24 21:45:00.00000061         12.9   \n",
       "3    25894730    2009-06-26 08:22:21.0000001          5.3   \n",
       "4    17610152  2014-08-28 17:47:00.000000188         16.0   \n",
       "\n",
       "           pickup_datetime  pickup_longitude  pickup_latitude  \\\n",
       "0  2015-05-07 19:52:06 UTC        -73.999817        40.738354   \n",
       "1  2009-07-17 20:04:56 UTC        -73.994355        40.728225   \n",
       "2  2009-08-24 21:45:00 UTC        -74.005043        40.740770   \n",
       "3  2009-06-26 08:22:21 UTC        -73.976124        40.790844   \n",
       "4  2014-08-28 17:47:00 UTC        -73.925023        40.744085   \n",
       "\n",
       "   dropoff_longitude  dropoff_latitude  passenger_count  \n",
       "0         -73.999512         40.723217                1  \n",
       "1         -73.994710         40.750325                1  \n",
       "2         -73.962565         40.772647                1  \n",
       "3         -73.965316         40.803349                3  \n",
       "4         -73.973082         40.761247                5  "
      ]
     },
     "execution_count": 3,
     "metadata": {},
     "output_type": "execute_result"
    }
   ],
   "source": [
    "df.head()"
   ]
  },
  {
   "cell_type": "markdown",
   "metadata": {
    "id": "_M41xsccv4w-"
   },
   "source": [
    "There are some issue looking in a columns its show I think Key column will be in the first Columns inplace of Unnmaed columns.And i think there is two pick up date columns as well.."
   ]
  },
  {
   "cell_type": "code",
   "execution_count": 4,
   "metadata": {
    "colab": {
     "base_uri": "https://localhost:8080/"
    },
    "executionInfo": {
     "elapsed": 1035,
     "status": "ok",
     "timestamp": 1721652458743,
     "user": {
      "displayName": "Tarun Nagar",
      "userId": "01260025781542848308"
     },
     "user_tz": -330
    },
    "id": "Bw2NNbpYCvKV",
    "outputId": "53eb7d28-6d09-482d-ae35-bbcba64f550c"
   },
   "outputs": [
    {
     "data": {
      "text/plain": [
       "(200000, 9)"
      ]
     },
     "execution_count": 4,
     "metadata": {},
     "output_type": "execute_result"
    }
   ],
   "source": [
    "df.shape"
   ]
  },
  {
   "cell_type": "code",
   "execution_count": 5,
   "metadata": {
    "colab": {
     "base_uri": "https://localhost:8080/"
    },
    "executionInfo": {
     "elapsed": 4,
     "status": "ok",
     "timestamp": 1721652462700,
     "user": {
      "displayName": "Tarun Nagar",
      "userId": "01260025781542848308"
     },
     "user_tz": -330
    },
    "id": "CS67jxwYApIb",
    "outputId": "b0079f13-3609-4ef3-dc35-c71acf41880e"
   },
   "outputs": [
    {
     "name": "stdout",
     "output_type": "stream",
     "text": [
      "<class 'pandas.core.frame.DataFrame'>\n",
      "RangeIndex: 200000 entries, 0 to 199999\n",
      "Data columns (total 9 columns):\n",
      " #   Column             Non-Null Count   Dtype  \n",
      "---  ------             --------------   -----  \n",
      " 0   Unnamed: 0         200000 non-null  int64  \n",
      " 1   key                200000 non-null  object \n",
      " 2   fare_amount        200000 non-null  float64\n",
      " 3   pickup_datetime    200000 non-null  object \n",
      " 4   pickup_longitude   200000 non-null  float64\n",
      " 5   pickup_latitude    200000 non-null  float64\n",
      " 6   dropoff_longitude  199999 non-null  float64\n",
      " 7   dropoff_latitude   199999 non-null  float64\n",
      " 8   passenger_count    200000 non-null  int64  \n",
      "dtypes: float64(5), int64(2), object(2)\n",
      "memory usage: 13.7+ MB\n"
     ]
    }
   ],
   "source": [
    "df.info()"
   ]
  },
  {
   "cell_type": "code",
   "execution_count": 6,
   "metadata": {
    "executionInfo": {
     "elapsed": 3,
     "status": "ok",
     "timestamp": 1721652467781,
     "user": {
      "displayName": "Tarun Nagar",
      "userId": "01260025781542848308"
     },
     "user_tz": -330
    },
    "id": "bkC4w_02xlqn"
   },
   "outputs": [],
   "source": [
    "df.rename(columns={'Unnamed: 0':'Keys'},inplace=True)"
   ]
  },
  {
   "cell_type": "code",
   "execution_count": 7,
   "metadata": {
    "executionInfo": {
     "elapsed": 8,
     "status": "ok",
     "timestamp": 1721652471506,
     "user": {
      "displayName": "Tarun Nagar",
      "userId": "01260025781542848308"
     },
     "user_tz": -330
    },
    "id": "-lYPQ_xvxus5"
   },
   "outputs": [],
   "source": [
    "df.drop(['key'] , inplace = True , axis=1)"
   ]
  },
  {
   "cell_type": "code",
   "execution_count": 8,
   "metadata": {
    "colab": {
     "base_uri": "https://localhost:8080/"
    },
    "executionInfo": {
     "elapsed": 5,
     "status": "ok",
     "timestamp": 1721652475251,
     "user": {
      "displayName": "Tarun Nagar",
      "userId": "01260025781542848308"
     },
     "user_tz": -330
    },
    "id": "5_spT41EBaed",
    "outputId": "65912738-00d6-4e01-8eff-b894544b8c06"
   },
   "outputs": [
    {
     "data": {
      "text/plain": [
       "Keys                 0\n",
       "fare_amount          0\n",
       "pickup_datetime      0\n",
       "pickup_longitude     0\n",
       "pickup_latitude      0\n",
       "dropoff_longitude    1\n",
       "dropoff_latitude     1\n",
       "passenger_count      0\n",
       "dtype: int64"
      ]
     },
     "execution_count": 8,
     "metadata": {},
     "output_type": "execute_result"
    }
   ],
   "source": [
    "df.isnull().sum()"
   ]
  },
  {
   "cell_type": "code",
   "execution_count": 9,
   "metadata": {
    "executionInfo": {
     "elapsed": 4,
     "status": "ok",
     "timestamp": 1721652480233,
     "user": {
      "displayName": "Tarun Nagar",
      "userId": "01260025781542848308"
     },
     "user_tz": -330
    },
    "id": "wXIdwWaQDcMv"
   },
   "outputs": [],
   "source": [
    "def is_title(col) :\n",
    "  return col.title()\n",
    "\n",
    "\n",
    "df.columns = df.columns.map(is_title)"
   ]
  },
  {
   "cell_type": "code",
   "execution_count": 10,
   "metadata": {
    "executionInfo": {
     "elapsed": 4461,
     "status": "ok",
     "timestamp": 1721652489218,
     "user": {
      "displayName": "Tarun Nagar",
      "userId": "01260025781542848308"
     },
     "user_tz": -330
    },
    "id": "tkjiIHfbzu4E"
   },
   "outputs": [],
   "source": [
    "df['Pickup_Datetime'] = pd.to_datetime(df['Pickup_Datetime'])"
   ]
  },
  {
   "cell_type": "code",
   "execution_count": 11,
   "metadata": {
    "executionInfo": {
     "elapsed": 6,
     "status": "ok",
     "timestamp": 1721652493553,
     "user": {
      "displayName": "Tarun Nagar",
      "userId": "01260025781542848308"
     },
     "user_tz": -330
    },
    "id": "-3IwvV2z0vub"
   },
   "outputs": [],
   "source": [
    "df.dropna(inplace=True)"
   ]
  },
  {
   "cell_type": "code",
   "execution_count": 12,
   "metadata": {
    "colab": {
     "base_uri": "https://localhost:8080/"
    },
    "executionInfo": {
     "elapsed": 23,
     "status": "ok",
     "timestamp": 1721652496899,
     "user": {
      "displayName": "Tarun Nagar",
      "userId": "01260025781542848308"
     },
     "user_tz": -330
    },
    "id": "6Hd3SkBPzWTU",
    "outputId": "69cd75d2-1590-4e73-fd31-573edb849af8"
   },
   "outputs": [
    {
     "data": {
      "text/plain": [
       "Keys                 199999\n",
       "Fare_Amount            1244\n",
       "Pickup_Datetime      196628\n",
       "Pickup_Longitude      71065\n",
       "Pickup_Latitude       83835\n",
       "Dropoff_Longitude     76894\n",
       "Dropoff_Latitude      90585\n",
       "Passenger_Count           8\n",
       "dtype: int64"
      ]
     },
     "execution_count": 12,
     "metadata": {},
     "output_type": "execute_result"
    }
   ],
   "source": [
    "df.nunique()"
   ]
  },
  {
   "cell_type": "code",
   "execution_count": 13,
   "metadata": {
    "executionInfo": {
     "elapsed": 652,
     "status": "ok",
     "timestamp": 1721652515379,
     "user": {
      "displayName": "Tarun Nagar",
      "userId": "01260025781542848308"
     },
     "user_tz": -330
    },
    "id": "1jyqxRtn43s-"
   },
   "outputs": [],
   "source": [
    "df['Year']  = df['Pickup_Datetime'].dt.year\n",
    "df['Month'] = df['Pickup_Datetime'].dt.month_name()\n",
    "df['Hour']  = df['Pickup_Datetime'].dt.hour\n",
    "df['Day'] = df['Pickup_Datetime'].dt.day_name()"
   ]
  },
  {
   "cell_type": "code",
   "execution_count": 14,
   "metadata": {},
   "outputs": [
    {
     "data": {
      "text/plain": [
       "Index(['Keys', 'Fare_Amount', 'Pickup_Datetime', 'Pickup_Longitude',\n",
       "       'Pickup_Latitude', 'Dropoff_Longitude', 'Dropoff_Latitude',\n",
       "       'Passenger_Count', 'Year', 'Month', 'Hour', 'Day'],\n",
       "      dtype='object')"
      ]
     },
     "execution_count": 14,
     "metadata": {},
     "output_type": "execute_result"
    }
   ],
   "source": [
    "df.columns"
   ]
  },
  {
   "cell_type": "code",
   "execution_count": 15,
   "metadata": {
    "executionInfo": {
     "elapsed": 508,
     "status": "ok",
     "timestamp": 1721652668126,
     "user": {
      "displayName": "Tarun Nagar",
      "userId": "01260025781542848308"
     },
     "user_tz": -330
    },
    "id": "0I33R6raHb23"
   },
   "outputs": [],
   "source": [
    "df['Hour'] = df['Hour'].replace(0,24)"
   ]
  },
  {
   "cell_type": "code",
   "execution_count": 16,
   "metadata": {
    "executionInfo": {
     "elapsed": 540,
     "status": "ok",
     "timestamp": 1721652772231,
     "user": {
      "displayName": "Tarun Nagar",
      "userId": "01260025781542848308"
     },
     "user_tz": -330
    },
    "id": "VjrPTqap_N9C"
   },
   "outputs": [],
   "source": [
    "def time_zone(col):\n",
    "    i = col\n",
    "    if i >= 7 and i < 12:\n",
    "      return \"Morning\"\n",
    "    elif i >= 12 and i < 17:\n",
    "      return \"Afternoon\"\n",
    "    elif i >= 17 and i < 22:\n",
    "      return \"Evening\"\n",
    "    else :\n",
    "      return \"Night\"\n",
    "\n",
    "df['Time_Zone'] = df.Hour.map(time_zone)"
   ]
  },
  {
   "cell_type": "code",
   "execution_count": 17,
   "metadata": {
    "executionInfo": {
     "elapsed": 533,
     "status": "ok",
     "timestamp": 1721652776622,
     "user": {
      "displayName": "Tarun Nagar",
      "userId": "01260025781542848308"
     },
     "user_tz": -330
    },
    "id": "0nJdIQIw8Ui0"
   },
   "outputs": [],
   "source": [
    "def haversin(lat1,lon1,lat2,lon2):\n",
    "    R = 6373.0  # Radians Values..\n",
    "\n",
    "    lat1 = np.radians(lat1)\n",
    "    lon1 = np.radians(lon1)\n",
    "    lat2 = np.radians(lat2)\n",
    "    lon2 = np.radians(lon2)\n",
    "\n",
    "    # Haversine formula\n",
    "    dlat = lat2 - lat1\n",
    "    dlon = lon2 - lon1\n",
    "    a = np.sin(dlat / 2)**2 + np.cos(lat1) * np.cos(lat2) * np.sin(dlon / 2)**2\n",
    "    c = 2 * np.arctan2(np.sqrt(a), np.sqrt(1 - a))\n",
    "    distance = R * c\n",
    "\n",
    "    return distance\n",
    "\n",
    "df['Distance_Km']=haversin(df['Pickup_Latitude'],df['Pickup_Longitude'],df['Dropoff_Latitude'],df['Dropoff_Longitude'])"
   ]
  },
  {
   "cell_type": "code",
   "execution_count": 18,
   "metadata": {
    "colab": {
     "base_uri": "https://localhost:8080/",
     "height": 557
    },
    "executionInfo": {
     "elapsed": 871,
     "status": "ok",
     "timestamp": 1721652795018,
     "user": {
      "displayName": "Tarun Nagar",
      "userId": "01260025781542848308"
     },
     "user_tz": -330
    },
    "id": "I0YbPjdT7JT4",
    "outputId": "fbfa59c6-3748-41a1-9749-e2eb558419ae"
   },
   "outputs": [
    {
     "data": {
      "text/html": [
       "<div>\n",
       "<style scoped>\n",
       "    .dataframe tbody tr th:only-of-type {\n",
       "        vertical-align: middle;\n",
       "    }\n",
       "\n",
       "    .dataframe tbody tr th {\n",
       "        vertical-align: top;\n",
       "    }\n",
       "\n",
       "    .dataframe thead th {\n",
       "        text-align: right;\n",
       "    }\n",
       "</style>\n",
       "<table border=\"1\" class=\"dataframe\">\n",
       "  <thead>\n",
       "    <tr style=\"text-align: right;\">\n",
       "      <th></th>\n",
       "      <th>Keys</th>\n",
       "      <th>Fare_Amount</th>\n",
       "      <th>Pickup_Datetime</th>\n",
       "      <th>Pickup_Longitude</th>\n",
       "      <th>Pickup_Latitude</th>\n",
       "      <th>Dropoff_Longitude</th>\n",
       "      <th>Dropoff_Latitude</th>\n",
       "      <th>Passenger_Count</th>\n",
       "      <th>Year</th>\n",
       "      <th>Month</th>\n",
       "      <th>Hour</th>\n",
       "      <th>Day</th>\n",
       "      <th>Time_Zone</th>\n",
       "      <th>Distance_Km</th>\n",
       "    </tr>\n",
       "  </thead>\n",
       "  <tbody>\n",
       "    <tr>\n",
       "      <th>143300</th>\n",
       "      <td>28108115</td>\n",
       "      <td>8.1</td>\n",
       "      <td>2012-04-17 14:30:24+00:00</td>\n",
       "      <td>-73.980477</td>\n",
       "      <td>40.761456</td>\n",
       "      <td>-73.962632</td>\n",
       "      <td>40.776651</td>\n",
       "      <td>1</td>\n",
       "      <td>2012</td>\n",
       "      <td>April</td>\n",
       "      <td>14</td>\n",
       "      <td>Tuesday</td>\n",
       "      <td>Afternoon</td>\n",
       "      <td>2.261934</td>\n",
       "    </tr>\n",
       "    <tr>\n",
       "      <th>116702</th>\n",
       "      <td>19501483</td>\n",
       "      <td>20.0</td>\n",
       "      <td>2013-07-15 13:28:00+00:00</td>\n",
       "      <td>-74.011224</td>\n",
       "      <td>40.710613</td>\n",
       "      <td>-73.973424</td>\n",
       "      <td>40.754051</td>\n",
       "      <td>1</td>\n",
       "      <td>2013</td>\n",
       "      <td>July</td>\n",
       "      <td>13</td>\n",
       "      <td>Monday</td>\n",
       "      <td>Afternoon</td>\n",
       "      <td>5.787494</td>\n",
       "    </tr>\n",
       "    <tr>\n",
       "      <th>77468</th>\n",
       "      <td>49957649</td>\n",
       "      <td>15.5</td>\n",
       "      <td>2013-02-25 19:06:45+00:00</td>\n",
       "      <td>-73.994386</td>\n",
       "      <td>40.746009</td>\n",
       "      <td>-73.947709</td>\n",
       "      <td>40.779358</td>\n",
       "      <td>1</td>\n",
       "      <td>2013</td>\n",
       "      <td>February</td>\n",
       "      <td>19</td>\n",
       "      <td>Monday</td>\n",
       "      <td>Evening</td>\n",
       "      <td>5.405895</td>\n",
       "    </tr>\n",
       "    <tr>\n",
       "      <th>19483</th>\n",
       "      <td>54315445</td>\n",
       "      <td>6.5</td>\n",
       "      <td>2013-04-20 17:18:00+00:00</td>\n",
       "      <td>-73.980290</td>\n",
       "      <td>40.717146</td>\n",
       "      <td>-73.989085</td>\n",
       "      <td>40.716844</td>\n",
       "      <td>4</td>\n",
       "      <td>2013</td>\n",
       "      <td>April</td>\n",
       "      <td>17</td>\n",
       "      <td>Saturday</td>\n",
       "      <td>Evening</td>\n",
       "      <td>0.742229</td>\n",
       "    </tr>\n",
       "    <tr>\n",
       "      <th>5498</th>\n",
       "      <td>3794013</td>\n",
       "      <td>10.5</td>\n",
       "      <td>2010-04-09 12:07:07+00:00</td>\n",
       "      <td>-73.995283</td>\n",
       "      <td>40.733463</td>\n",
       "      <td>-73.993764</td>\n",
       "      <td>40.751736</td>\n",
       "      <td>1</td>\n",
       "      <td>2010</td>\n",
       "      <td>April</td>\n",
       "      <td>12</td>\n",
       "      <td>Friday</td>\n",
       "      <td>Afternoon</td>\n",
       "      <td>2.036530</td>\n",
       "    </tr>\n",
       "  </tbody>\n",
       "</table>\n",
       "</div>"
      ],
      "text/plain": [
       "            Keys  Fare_Amount           Pickup_Datetime  Pickup_Longitude  \\\n",
       "143300  28108115          8.1 2012-04-17 14:30:24+00:00        -73.980477   \n",
       "116702  19501483         20.0 2013-07-15 13:28:00+00:00        -74.011224   \n",
       "77468   49957649         15.5 2013-02-25 19:06:45+00:00        -73.994386   \n",
       "19483   54315445          6.5 2013-04-20 17:18:00+00:00        -73.980290   \n",
       "5498     3794013         10.5 2010-04-09 12:07:07+00:00        -73.995283   \n",
       "\n",
       "        Pickup_Latitude  Dropoff_Longitude  Dropoff_Latitude  Passenger_Count  \\\n",
       "143300        40.761456         -73.962632         40.776651                1   \n",
       "116702        40.710613         -73.973424         40.754051                1   \n",
       "77468         40.746009         -73.947709         40.779358                1   \n",
       "19483         40.717146         -73.989085         40.716844                4   \n",
       "5498          40.733463         -73.993764         40.751736                1   \n",
       "\n",
       "        Year     Month  Hour       Day  Time_Zone  Distance_Km  \n",
       "143300  2012     April    14   Tuesday  Afternoon     2.261934  \n",
       "116702  2013      July    13    Monday  Afternoon     5.787494  \n",
       "77468   2013  February    19    Monday    Evening     5.405895  \n",
       "19483   2013     April    17  Saturday    Evening     0.742229  \n",
       "5498    2010     April    12    Friday  Afternoon     2.036530  "
      ]
     },
     "execution_count": 18,
     "metadata": {},
     "output_type": "execute_result"
    }
   ],
   "source": [
    "df.sample(5)"
   ]
  },
  {
   "cell_type": "code",
   "execution_count": 19,
   "metadata": {
    "colab": {
     "base_uri": "https://localhost:8080/",
     "height": 330
    },
    "executionInfo": {
     "elapsed": 545,
     "status": "ok",
     "timestamp": 1721652957082,
     "user": {
      "displayName": "Tarun Nagar",
      "userId": "01260025781542848308"
     },
     "user_tz": -330
    },
    "id": "oGgQIfch-BhA",
    "outputId": "c0cb084b-0833-47a9-d425-99496addc1ec"
   },
   "outputs": [
    {
     "name": "stdout",
     "output_type": "stream",
     "text": [
      "Duplicated Values are 0\n"
     ]
    },
    {
     "data": {
      "text/html": [
       "<div>\n",
       "<style scoped>\n",
       "    .dataframe tbody tr th:only-of-type {\n",
       "        vertical-align: middle;\n",
       "    }\n",
       "\n",
       "    .dataframe tbody tr th {\n",
       "        vertical-align: top;\n",
       "    }\n",
       "\n",
       "    .dataframe thead th {\n",
       "        text-align: right;\n",
       "    }\n",
       "</style>\n",
       "<table border=\"1\" class=\"dataframe\">\n",
       "  <thead>\n",
       "    <tr style=\"text-align: right;\">\n",
       "      <th></th>\n",
       "      <th>Keys</th>\n",
       "      <th>Fare_Amount</th>\n",
       "      <th>Pickup_Datetime</th>\n",
       "      <th>Pickup_Longitude</th>\n",
       "      <th>Pickup_Latitude</th>\n",
       "      <th>Dropoff_Longitude</th>\n",
       "      <th>Dropoff_Latitude</th>\n",
       "      <th>Passenger_Count</th>\n",
       "      <th>Year</th>\n",
       "      <th>Month</th>\n",
       "      <th>Hour</th>\n",
       "      <th>Day</th>\n",
       "      <th>Time_Zone</th>\n",
       "      <th>Distance_Km</th>\n",
       "    </tr>\n",
       "  </thead>\n",
       "  <tbody>\n",
       "    <tr>\n",
       "      <th>0</th>\n",
       "      <td>24238194</td>\n",
       "      <td>7.5</td>\n",
       "      <td>2015-05-07 19:52:06+00:00</td>\n",
       "      <td>-73.999817</td>\n",
       "      <td>40.738354</td>\n",
       "      <td>-73.999512</td>\n",
       "      <td>40.723217</td>\n",
       "      <td>1</td>\n",
       "      <td>2015</td>\n",
       "      <td>May</td>\n",
       "      <td>19</td>\n",
       "      <td>Thursday</td>\n",
       "      <td>Evening</td>\n",
       "      <td>1.683851</td>\n",
       "    </tr>\n",
       "    <tr>\n",
       "      <th>1</th>\n",
       "      <td>27835199</td>\n",
       "      <td>7.7</td>\n",
       "      <td>2009-07-17 20:04:56+00:00</td>\n",
       "      <td>-73.994355</td>\n",
       "      <td>40.728225</td>\n",
       "      <td>-73.994710</td>\n",
       "      <td>40.750325</td>\n",
       "      <td>1</td>\n",
       "      <td>2009</td>\n",
       "      <td>July</td>\n",
       "      <td>20</td>\n",
       "      <td>Friday</td>\n",
       "      <td>Evening</td>\n",
       "      <td>2.458361</td>\n",
       "    </tr>\n",
       "    <tr>\n",
       "      <th>2</th>\n",
       "      <td>44984355</td>\n",
       "      <td>12.9</td>\n",
       "      <td>2009-08-24 21:45:00+00:00</td>\n",
       "      <td>-74.005043</td>\n",
       "      <td>40.740770</td>\n",
       "      <td>-73.962565</td>\n",
       "      <td>40.772647</td>\n",
       "      <td>1</td>\n",
       "      <td>2009</td>\n",
       "      <td>August</td>\n",
       "      <td>21</td>\n",
       "      <td>Monday</td>\n",
       "      <td>Evening</td>\n",
       "      <td>5.037958</td>\n",
       "    </tr>\n",
       "    <tr>\n",
       "      <th>3</th>\n",
       "      <td>25894730</td>\n",
       "      <td>5.3</td>\n",
       "      <td>2009-06-26 08:22:21+00:00</td>\n",
       "      <td>-73.976124</td>\n",
       "      <td>40.790844</td>\n",
       "      <td>-73.965316</td>\n",
       "      <td>40.803349</td>\n",
       "      <td>3</td>\n",
       "      <td>2009</td>\n",
       "      <td>June</td>\n",
       "      <td>8</td>\n",
       "      <td>Friday</td>\n",
       "      <td>Morning</td>\n",
       "      <td>1.662205</td>\n",
       "    </tr>\n",
       "    <tr>\n",
       "      <th>4</th>\n",
       "      <td>17610152</td>\n",
       "      <td>16.0</td>\n",
       "      <td>2014-08-28 17:47:00+00:00</td>\n",
       "      <td>-73.925023</td>\n",
       "      <td>40.744085</td>\n",
       "      <td>-73.973082</td>\n",
       "      <td>40.761247</td>\n",
       "      <td>5</td>\n",
       "      <td>2014</td>\n",
       "      <td>August</td>\n",
       "      <td>17</td>\n",
       "      <td>Thursday</td>\n",
       "      <td>Evening</td>\n",
       "      <td>4.476855</td>\n",
       "    </tr>\n",
       "  </tbody>\n",
       "</table>\n",
       "</div>"
      ],
      "text/plain": [
       "       Keys  Fare_Amount           Pickup_Datetime  Pickup_Longitude  \\\n",
       "0  24238194          7.5 2015-05-07 19:52:06+00:00        -73.999817   \n",
       "1  27835199          7.7 2009-07-17 20:04:56+00:00        -73.994355   \n",
       "2  44984355         12.9 2009-08-24 21:45:00+00:00        -74.005043   \n",
       "3  25894730          5.3 2009-06-26 08:22:21+00:00        -73.976124   \n",
       "4  17610152         16.0 2014-08-28 17:47:00+00:00        -73.925023   \n",
       "\n",
       "   Pickup_Latitude  Dropoff_Longitude  Dropoff_Latitude  Passenger_Count  \\\n",
       "0        40.738354         -73.999512         40.723217                1   \n",
       "1        40.728225         -73.994710         40.750325                1   \n",
       "2        40.740770         -73.962565         40.772647                1   \n",
       "3        40.790844         -73.965316         40.803349                3   \n",
       "4        40.744085         -73.973082         40.761247                5   \n",
       "\n",
       "   Year   Month  Hour       Day Time_Zone  Distance_Km  \n",
       "0  2015     May    19  Thursday   Evening     1.683851  \n",
       "1  2009    July    20    Friday   Evening     2.458361  \n",
       "2  2009  August    21    Monday   Evening     5.037958  \n",
       "3  2009    June     8    Friday   Morning     1.662205  \n",
       "4  2014  August    17  Thursday   Evening     4.476855  "
      ]
     },
     "execution_count": 19,
     "metadata": {},
     "output_type": "execute_result"
    }
   ],
   "source": [
    "print(f'Duplicated Values are {df.duplicated().sum()}')\n",
    "df.head()"
   ]
  },
  {
   "cell_type": "code",
   "execution_count": 20,
   "metadata": {
    "colab": {
     "base_uri": "https://localhost:8080/",
     "height": 300
    },
    "executionInfo": {
     "elapsed": 532,
     "status": "ok",
     "timestamp": 1721652964155,
     "user": {
      "displayName": "Tarun Nagar",
      "userId": "01260025781542848308"
     },
     "user_tz": -330
    },
    "id": "n9_-vBWbrhEw",
    "outputId": "c9dac214-1b87-442f-95c5-d545499b2204"
   },
   "outputs": [
    {
     "data": {
      "text/html": [
       "<div>\n",
       "<style scoped>\n",
       "    .dataframe tbody tr th:only-of-type {\n",
       "        vertical-align: middle;\n",
       "    }\n",
       "\n",
       "    .dataframe tbody tr th {\n",
       "        vertical-align: top;\n",
       "    }\n",
       "\n",
       "    .dataframe thead th {\n",
       "        text-align: right;\n",
       "    }\n",
       "</style>\n",
       "<table border=\"1\" class=\"dataframe\">\n",
       "  <thead>\n",
       "    <tr style=\"text-align: right;\">\n",
       "      <th></th>\n",
       "      <th>Fare_Amount</th>\n",
       "      <th>Passenger_Count</th>\n",
       "      <th>Year</th>\n",
       "      <th>Hour</th>\n",
       "      <th>Distance_Km</th>\n",
       "    </tr>\n",
       "  </thead>\n",
       "  <tbody>\n",
       "    <tr>\n",
       "      <th>count</th>\n",
       "      <td>199999.000000</td>\n",
       "      <td>199999.000000</td>\n",
       "      <td>199999.000000</td>\n",
       "      <td>199999.000000</td>\n",
       "      <td>199999.000000</td>\n",
       "    </tr>\n",
       "    <tr>\n",
       "      <th>mean</th>\n",
       "      <td>11.359892</td>\n",
       "      <td>1.684543</td>\n",
       "      <td>2011.742434</td>\n",
       "      <td>14.432672</td>\n",
       "      <td>20.861897</td>\n",
       "    </tr>\n",
       "    <tr>\n",
       "      <th>std</th>\n",
       "      <td>9.901760</td>\n",
       "      <td>1.385995</td>\n",
       "      <td>1.856400</td>\n",
       "      <td>6.225603</td>\n",
       "      <td>383.084863</td>\n",
       "    </tr>\n",
       "    <tr>\n",
       "      <th>min</th>\n",
       "      <td>-52.000000</td>\n",
       "      <td>0.000000</td>\n",
       "      <td>2009.000000</td>\n",
       "      <td>1.000000</td>\n",
       "      <td>0.000000</td>\n",
       "    </tr>\n",
       "    <tr>\n",
       "      <th>25%</th>\n",
       "      <td>6.000000</td>\n",
       "      <td>1.000000</td>\n",
       "      <td>2010.000000</td>\n",
       "      <td>10.000000</td>\n",
       "      <td>1.215603</td>\n",
       "    </tr>\n",
       "    <tr>\n",
       "      <th>50%</th>\n",
       "      <td>8.500000</td>\n",
       "      <td>1.000000</td>\n",
       "      <td>2012.000000</td>\n",
       "      <td>15.000000</td>\n",
       "      <td>2.121658</td>\n",
       "    </tr>\n",
       "    <tr>\n",
       "      <th>75%</th>\n",
       "      <td>12.500000</td>\n",
       "      <td>2.000000</td>\n",
       "      <td>2013.000000</td>\n",
       "      <td>20.000000</td>\n",
       "      <td>3.876386</td>\n",
       "    </tr>\n",
       "    <tr>\n",
       "      <th>max</th>\n",
       "      <td>499.000000</td>\n",
       "      <td>208.000000</td>\n",
       "      <td>2015.000000</td>\n",
       "      <td>24.000000</td>\n",
       "      <td>16414.390364</td>\n",
       "    </tr>\n",
       "  </tbody>\n",
       "</table>\n",
       "</div>"
      ],
      "text/plain": [
       "         Fare_Amount  Passenger_Count           Year           Hour  \\\n",
       "count  199999.000000    199999.000000  199999.000000  199999.000000   \n",
       "mean       11.359892         1.684543    2011.742434      14.432672   \n",
       "std         9.901760         1.385995       1.856400       6.225603   \n",
       "min       -52.000000         0.000000    2009.000000       1.000000   \n",
       "25%         6.000000         1.000000    2010.000000      10.000000   \n",
       "50%         8.500000         1.000000    2012.000000      15.000000   \n",
       "75%        12.500000         2.000000    2013.000000      20.000000   \n",
       "max       499.000000       208.000000    2015.000000      24.000000   \n",
       "\n",
       "         Distance_Km  \n",
       "count  199999.000000  \n",
       "mean       20.861897  \n",
       "std       383.084863  \n",
       "min         0.000000  \n",
       "25%         1.215603  \n",
       "50%         2.121658  \n",
       "75%         3.876386  \n",
       "max     16414.390364  "
      ]
     },
     "execution_count": 20,
     "metadata": {},
     "output_type": "execute_result"
    }
   ],
   "source": [
    "df[['Fare_Amount' , 'Passenger_Count' , 'Year' , 'Hour' , 'Distance_Km']].describe()"
   ]
  },
  {
   "cell_type": "code",
   "execution_count": 21,
   "metadata": {
    "id": "Te1THQ4Yse4L"
   },
   "outputs": [],
   "source": [
    "df = df[df['Distance_Km'] != 0]"
   ]
  },
  {
   "cell_type": "markdown",
   "metadata": {
    "id": "SC8-E75Evr5S"
   },
   "source": [
    "So there is no column with 0 distance_km as well."
   ]
  },
  {
   "cell_type": "code",
   "execution_count": 22,
   "metadata": {
    "id": "HII65sP8tg9m"
   },
   "outputs": [],
   "source": [
    "# Seeing the Latitude and Longitude COlumns as well..which contain 0 values..\n",
    "df = df[(df['Pickup_Latitude'] != 0) & (df['Pickup_Longitude'] != 0) & (df['Dropoff_Latitude'] != 0) & (df['Dropoff_Longitude'] != 0)]\n",
    "\n",
    "# Remove all the Value that are Containing 0 in their Latitude and Longitude Columns as well.."
   ]
  },
  {
   "cell_type": "code",
   "execution_count": 23,
   "metadata": {
    "colab": {
     "base_uri": "https://localhost:8080/"
    },
    "executionInfo": {
     "elapsed": 16,
     "status": "ok",
     "timestamp": 1721653448486,
     "user": {
      "displayName": "Tarun Nagar",
      "userId": "01260025781542848308"
     },
     "user_tz": -330
    },
    "id": "2vuWAHmfx_DG",
    "outputId": "0fd28bde-0cf3-4742-c8db-86fe051d9346"
   },
   "outputs": [
    {
     "data": {
      "text/plain": [
       "Passenger_Count\n",
       "1      134212\n",
       "2       28579\n",
       "5       13569\n",
       "3        8633\n",
       "6        4159\n",
       "4        4148\n",
       "208         1\n",
       "Name: count, dtype: int64"
      ]
     },
     "execution_count": 23,
     "metadata": {},
     "output_type": "execute_result"
    }
   ],
   "source": [
    "# See the OverView of the Top Values\n",
    "df = df[df['Passenger_Count'] != 0]\n",
    "df[\"Passenger_Count\"].value_counts()"
   ]
  },
  {
   "cell_type": "markdown",
   "metadata": {
    "id": "T8noP3VL2qTI"
   },
   "source": [
    "Here i Will remove all the unwanted values from the data..Here our data will almost clean and not contain any anamolies itself.."
   ]
  },
  {
   "cell_type": "code",
   "execution_count": 24,
   "metadata": {
    "id": "ePoR9v5t56Er"
   },
   "outputs": [],
   "source": [
    "# There is one person or row that contain Passenger_Count = 208 so we simply remove that row because its wrong data..\n",
    "# Before removing DataSet Size => (193301, 14)\n",
    "df = df[df['Passenger_Count'] != 208]"
   ]
  },
  {
   "cell_type": "code",
   "execution_count": 25,
   "metadata": {},
   "outputs": [],
   "source": [
    "df.drop('Pickup_Datetime', inplace=True, axis = 1)"
   ]
  },
  {
   "cell_type": "markdown",
   "metadata": {
    "id": "LsL0feII8FF2"
   },
   "source": [
    "# Starting EDA [Exploratory Data Analysis]"
   ]
  },
  {
   "cell_type": "markdown",
   "metadata": {
    "id": "Q3-7AZZ_5ubO"
   },
   "source": [
    "### Uni-Variate Analysis"
   ]
  },
  {
   "cell_type": "code",
   "execution_count": 26,
   "metadata": {
    "colab": {
     "base_uri": "https://localhost:8080/",
     "height": 410
    },
    "executionInfo": {
     "elapsed": 1419,
     "status": "ok",
     "timestamp": 1721379432385,
     "user": {
      "displayName": "Tarun Nagar",
      "userId": "01260025781542848308"
     },
     "user_tz": -330
    },
    "id": "7R2abqM91ZmP",
    "outputId": "6a8a07e7-b662-4332-94eb-429ea9a0a9fc"
   },
   "outputs": [
    {
     "data": {
      "image/png": "[encoded data removed]",
      "text/plain": [
       "<Figure size 1000x400 with 1 Axes>"
      ]
     },
     "metadata": {},
     "output_type": "display_data"
    }
   ],
   "source": [
    "plt.figure(figsize=(10,4))\n",
    "ax = sns.countplot(x=df['Passenger_Count'] , data = df)\n",
    "plt.title('Passenger Frequancy')\n",
    "plt.xlabel('Passenger Count')\n",
    "plt.ylabel('Count')\n",
    "\n",
    "for i in ax.containers:\n",
    "  ax.bar_label(i)"
   ]
  },
  {
   "cell_type": "code",
   "execution_count": 27,
   "metadata": {
    "colab": {
     "base_uri": "https://localhost:8080/",
     "height": 472
    },
    "executionInfo": {
     "elapsed": 1988,
     "status": "ok",
     "timestamp": 1721379438329,
     "user": {
      "displayName": "Tarun Nagar",
      "userId": "01260025781542848308"
     },
     "user_tz": -330
    },
    "id": "mjACbp6g7OQe",
    "outputId": "637e15d9-02ef-491c-c82b-82f098e8bda2"
   },
   "outputs": [
    {
     "data": {
      "image/png": "[encoded data removed]",
      "text/plain": [
       "<Figure size 640x480 with 1 Axes>"
      ]
     },
     "metadata": {},
     "output_type": "display_data"
    }
   ],
   "source": [
    "# See the Order Counts in a Year in a Month or in a Hour as well one by one..\n",
    "ax = sns.countplot(x = df['Year'] , data = df)\n",
    "plt.title('Year Count')\n",
    "plt.xlabel('Year')\n",
    "plt.ylabel('Count')\n",
    "\n",
    "for i in ax.containers:\n",
    "  ax.bar_label(i)"
   ]
  },
  {
   "cell_type": "code",
   "execution_count": 28,
   "metadata": {
    "colab": {
     "base_uri": "https://localhost:8080/",
     "height": 487
    },
    "executionInfo": {
     "elapsed": 1567,
     "status": "ok",
     "timestamp": 1721379446203,
     "user": {
      "displayName": "Tarun Nagar",
      "userId": "01260025781542848308"
     },
     "user_tz": -330
    },
    "id": "FJrR6Kuk8BDP",
    "outputId": "67022a41-9411-490c-92d5-53f3e441ca56"
   },
   "outputs": [
    {
     "data": {
      "image/png": "[encoded data removed]",
      "text/plain": [
       "<Figure size 1300x500 with 1 Axes>"
      ]
     },
     "metadata": {},
     "output_type": "display_data"
    }
   ],
   "source": [
    "# See the Frequency of Order in Each Month..\n",
    "plt.figure(figsize=(13,5))\n",
    "ax = sns.countplot(x = df['Month'] , data = df , order=df['Month'].value_counts().index)\n",
    "plt.title('Month Count')\n",
    "plt.xlabel('Month')\n",
    "plt.ylabel('Count')\n",
    "\n",
    "for i in ax.containers:\n",
    "  ax.bar_label(i)"
   ]
  },
  {
   "cell_type": "code",
   "execution_count": 29,
   "metadata": {
    "colab": {
     "base_uri": "https://localhost:8080/",
     "height": 558
    },
    "executionInfo": {
     "elapsed": 1600,
     "status": "ok",
     "timestamp": 1721379457476,
     "user": {
      "displayName": "Tarun Nagar",
      "userId": "01260025781542848308"
     },
     "user_tz": -330
    },
    "id": "fj93H0U48oX7",
    "outputId": "853d144f-9e77-4820-e0f2-9e96c0f3da4e"
   },
   "outputs": [
    {
     "data": {
      "image/png": "[encoded data removed]",
      "text/plain": [
       "<Figure size 1500x600 with 1 Axes>"
      ]
     },
     "metadata": {},
     "output_type": "display_data"
    }
   ],
   "source": [
    "# See the Order Count in a Hour Times..\n",
    "plt.figure(figsize = (15,6))\n",
    "ax = sns.countplot(x = df['Hour'] , data = df , order = df['Hour'].value_counts().index )\n",
    "plt.title('Hour Count')\n",
    "plt.xlabel('Hour')\n",
    "plt.ylabel('Count')\n",
    "\n",
    "for i in ax.containers:\n",
    "  ax.bar_label(i)"
   ]
  },
  {
   "cell_type": "markdown",
   "metadata": {
    "id": "JGPhNK0f9W9z"
   },
   "source": [
    "There are three patch according to me in which time we get the most number of order first patch time was [18,19,20,21,22] and second batch was [13,12,23,14,17,15,11,9] and third batch was [8,10,16,24,7] and remaining time we get the order but not as much.."
   ]
  },
  {
   "cell_type": "code",
   "execution_count": 30,
   "metadata": {
    "colab": {
     "base_uri": "https://localhost:8080/",
     "height": 466
    },
    "executionInfo": {
     "elapsed": 1330,
     "status": "ok",
     "timestamp": 1721379462442,
     "user": {
      "displayName": "Tarun Nagar",
      "userId": "01260025781542848308"
     },
     "user_tz": -330
    },
    "id": "hONMorMCJ4YG",
    "outputId": "3a7d01df-459b-4abb-be72-562746998a4e"
   },
   "outputs": [
    {
     "data": {
      "text/plain": [
       "<Axes: xlabel='Hour', ylabel='Density'>"
      ]
     },
     "execution_count": 30,
     "metadata": {},
     "output_type": "execute_result"
    },
    {
     "data": {
      "image/png": "[encoded data removed]",
      "text/plain": [
       "<Figure size 640x480 with 1 Axes>"
      ]
     },
     "metadata": {},
     "output_type": "display_data"
    }
   ],
   "source": [
    "# Trying to see the Order in the DistPlot..\n",
    "sns.distplot(df['Hour'] , bins = 24 )"
   ]
  },
  {
   "cell_type": "code",
   "execution_count": 31,
   "metadata": {
    "colab": {
     "base_uri": "https://localhost:8080/",
     "height": 410
    },
    "executionInfo": {
     "elapsed": 1427,
     "status": "ok",
     "timestamp": 1721379762049,
     "user": {
      "displayName": "Tarun Nagar",
      "userId": "01260025781542848308"
     },
     "user_tz": -330
    },
    "id": "_VJbgxYiFxnO",
    "outputId": "46fc9815-0482-4050-9bb2-33fe0f9bbae6"
   },
   "outputs": [
    {
     "data": {
      "image/png": "[encoded data removed]",
      "text/plain": [
       "<Figure size 1000x400 with 1 Axes>"
      ]
     },
     "metadata": {},
     "output_type": "display_data"
    }
   ],
   "source": [
    "# See the Day Wise Numbers of Orders.\n",
    "plt.figure(figsize = (10,4))\n",
    "ax = sns.countplot(x = df['Day'] , data = df,order = df['Day'].value_counts().index)\n",
    "plt.title('Day Count')\n",
    "plt.xlabel('Day')\n",
    "plt.ylabel('Count')\n",
    "\n",
    "for i in ax.containers:\n",
    "  ax.bar_label(i)"
   ]
  },
  {
   "cell_type": "markdown",
   "metadata": {
    "id": "Gy9BGe-bNtDT"
   },
   "source": [
    "We get the Least numbers of Order on Sunday and Monday .. Sunday is Obvious becuase these was a holiday but on Monday we also getting least order and get the most number of order from Tuesday to Friday."
   ]
  },
  {
   "cell_type": "code",
   "execution_count": 32,
   "metadata": {
    "colab": {
     "base_uri": "https://localhost:8080/",
     "height": 472
    },
    "executionInfo": {
     "elapsed": 1298,
     "status": "ok",
     "timestamp": 1721379848489,
     "user": {
      "displayName": "Tarun Nagar",
      "userId": "01260025781542848308"
     },
     "user_tz": -330
    },
    "id": "bMpn26pNOuGH",
    "outputId": "e6c99f42-1db1-4ef9-9e4c-0fa0e67a0f6d"
   },
   "outputs": [
    {
     "data": {
      "image/png": "[encoded data removed]",
      "text/plain": [
       "<Figure size 640x480 with 1 Axes>"
      ]
     },
     "metadata": {},
     "output_type": "display_data"
    }
   ],
   "source": [
    "# See the Time Wise Order Frequnecy ..\n",
    "ax = sns.countplot(x = df['Time_Zone'] , data = df , order = df['Time_Zone'].value_counts().index)\n",
    "plt.title('Time Zone Count')\n",
    "plt.xlabel('Time Zone')\n",
    "plt.ylabel('Count')\n",
    "\n",
    "for i in ax.containers:\n",
    "  ax.bar_label(i)"
   ]
  },
  {
   "cell_type": "markdown",
   "metadata": {
    "id": "TQCMwRO2THp_"
   },
   "source": [
    "so we seen we get the least number of ride in the morning according to dataset."
   ]
  },
  {
   "cell_type": "code",
   "execution_count": 33,
   "metadata": {
    "colab": {
     "base_uri": "https://localhost:8080/",
     "height": 428
    },
    "executionInfo": {
     "elapsed": 712,
     "status": "ok",
     "timestamp": 1721381401988,
     "user": {
      "displayName": "Tarun Nagar",
      "userId": "01260025781542848308"
     },
     "user_tz": -330
    },
    "id": "M41H-VklUO1P",
    "outputId": "0417c1ab-fdbb-4fef-dc3f-afaa844c8fa0"
   },
   "outputs": [
    {
     "data": {
      "image/png": "[encoded data removed]",
      "text/plain": [
       "<Figure size 640x480 with 1 Axes>"
      ]
     },
     "metadata": {},
     "output_type": "display_data"
    }
   ],
   "source": [
    "# We can also see the Time Distribution in the Pie Chart ...\n",
    "plt.pie(df['Time_Zone'].value_counts().values , autopct='%1.1f%%' , labels = df['Time_Zone'].value_counts().index)\n",
    "plt.title('Numbers of Rides According to Time_Zone')\n",
    "plt.show()"
   ]
  },
  {
   "cell_type": "code",
   "execution_count": 34,
   "metadata": {
    "colab": {
     "base_uri": "https://localhost:8080/"
    },
    "executionInfo": {
     "elapsed": 659,
     "status": "ok",
     "timestamp": 1721381887621,
     "user": {
      "displayName": "Tarun Nagar",
      "userId": "01260025781542848308"
     },
     "user_tz": -330
    },
    "id": "9JJF0kxvU9F2",
    "outputId": "0d0ca71b-1f63-4090-c895-37c793d1428e"
   },
   "outputs": [
    {
     "data": {
      "text/plain": [
       "75851     16414.390364\n",
       "139447    10324.747814\n",
       "70889      8670.414162\n",
       "129303     8588.024373\n",
       "52972      6034.069836\n",
       "              ...     \n",
       "14116         0.000084\n",
       "42732         0.000084\n",
       "119189        0.000084\n",
       "163148        0.000084\n",
       "1531          0.000084\n",
       "Name: Distance_Km, Length: 193300, dtype: float64"
      ]
     },
     "execution_count": 34,
     "metadata": {},
     "output_type": "execute_result"
    }
   ],
   "source": [
    "# Seeing the Distance Columns As Well..\n",
    "df['Distance_Km'].sort_values(ascending=False)"
   ]
  },
  {
   "cell_type": "code",
   "execution_count": 35,
   "metadata": {
    "id": "L5wyn1fDWk2e"
   },
   "outputs": [
    {
     "data": {
      "image/png": "[encoded data removed]",
      "text/plain": [
       "<Figure size 800x300 with 1 Axes>"
      ]
     },
     "metadata": {},
     "output_type": "display_data"
    }
   ],
   "source": [
    "plt.figure(figsize=(8, 3))\n",
    "sns.boxplot(x='Fare_Amount', data=df)\n",
    "plt.title('Boxplot using Seaborn')\n",
    "plt.show()"
   ]
  },
  {
   "cell_type": "code",
   "execution_count": 36,
   "metadata": {},
   "outputs": [
    {
     "data": {
      "text/plain": [
       "count    193300.000000\n",
       "mean         11.352817\n",
       "std           9.744598\n",
       "min         -52.000000\n",
       "25%           6.000000\n",
       "50%           8.500000\n",
       "75%          12.500000\n",
       "max         499.000000\n",
       "Name: Fare_Amount, dtype: float64"
      ]
     },
     "execution_count": 36,
     "metadata": {},
     "output_type": "execute_result"
    }
   ],
   "source": [
    "df['Fare_Amount'].describe()"
   ]
  },
  {
   "cell_type": "code",
   "execution_count": 37,
   "metadata": {},
   "outputs": [],
   "source": [
    "lower_percentile = 1\n",
    "upper_percentile = 99\n",
    "\n",
    "# Calculate the lower and upper bounds\n",
    "lower_bound_distance = df['Distance_Km'].quantile(lower_percentile / 100)\n",
    "upper_bound_distance = df['Distance_Km'].quantile(upper_percentile / 100)\n",
    "\n",
    "lower_bound_fare = df['Fare_Amount'].quantile(lower_percentile / 100)\n",
    "upper_bound_fare = df['Fare_Amount'].quantile(upper_percentile / 100)\n",
    "\n",
    "# Apply capping using clip\n",
    "df['Distance_Km'] = df['Distance_Km'].clip(lower=lower_bound_distance, upper=upper_bound_distance)\n",
    "df['Fare_Amount'] = df['Fare_Amount'].clip(lower=lower_bound_fare, upper=upper_bound_fare)\n"
   ]
  },
  {
   "cell_type": "code",
   "execution_count": 38,
   "metadata": {},
   "outputs": [],
   "source": [
    "lower_percentile = 1\n",
    "upper_percentile = 99\n",
    "\n",
    "# Calculate the lower and upper bounds\n",
    "lower_bound_distance = df['Distance_Km'].quantile(lower_percentile / 100)\n",
    "upper_bound_distance = df['Distance_Km'].quantile(upper_percentile / 100)\n",
    "\n",
    "lower_bound_fare = df['Fare_Amount'].quantile(lower_percentile / 100)\n",
    "upper_bound_fare = df['Fare_Amount'].quantile(upper_percentile / 100)\n",
    "\n",
    "# Apply capping using clip\n",
    "df['Distance_Km'] = df['Distance_Km'].clip(lower=lower_bound_distance, upper=upper_bound_distance)\n",
    "df['Fare_Amount'] = df['Fare_Amount'].clip(lower=lower_bound_fare, upper=upper_bound_fare)\n",
    "\n"
   ]
  },
  {
   "cell_type": "code",
   "execution_count": 39,
   "metadata": {},
   "outputs": [
    {
     "data": {
      "image/png": "[encoded data removed]",
      "text/plain": [
       "<Figure size 800x600 with 1 Axes>"
      ]
     },
     "metadata": {},
     "output_type": "display_data"
    }
   ],
   "source": [
    "plt.figure(figsize=(8, 6))\n",
    "sns.boxplot(x='Fare_Amount', data=df)\n",
    "plt.title('Boxplot using Seaborn')\n",
    "plt.show()"
   ]
  },
  {
   "cell_type": "code",
   "execution_count": 40,
   "metadata": {},
   "outputs": [],
   "source": [
    "# df[['Distance_Km_capped', 'Fare_Amount_capped']].describe()"
   ]
  },
  {
   "cell_type": "code",
   "execution_count": 41,
   "metadata": {},
   "outputs": [],
   "source": [
    "df_dum = pd.get_dummies(df[['Time_Zone', 'Day', 'Month']], dtype=int)"
   ]
  },
  {
   "cell_type": "code",
   "execution_count": 42,
   "metadata": {},
   "outputs": [
    {
     "data": {
      "text/html": [
       "<div>\n",
       "<style scoped>\n",
       "    .dataframe tbody tr th:only-of-type {\n",
       "        vertical-align: middle;\n",
       "    }\n",
       "\n",
       "    .dataframe tbody tr th {\n",
       "        vertical-align: top;\n",
       "    }\n",
       "\n",
       "    .dataframe thead th {\n",
       "        text-align: right;\n",
       "    }\n",
       "</style>\n",
       "<table border=\"1\" class=\"dataframe\">\n",
       "  <thead>\n",
       "    <tr style=\"text-align: right;\">\n",
       "      <th></th>\n",
       "      <th>Time_Zone_Afternoon</th>\n",
       "      <th>Time_Zone_Evening</th>\n",
       "      <th>Time_Zone_Morning</th>\n",
       "      <th>Time_Zone_Night</th>\n",
       "      <th>Day_Friday</th>\n",
       "      <th>Day_Monday</th>\n",
       "      <th>Day_Saturday</th>\n",
       "      <th>Day_Sunday</th>\n",
       "      <th>Day_Thursday</th>\n",
       "      <th>Day_Tuesday</th>\n",
       "      <th>...</th>\n",
       "      <th>Month_December</th>\n",
       "      <th>Month_February</th>\n",
       "      <th>Month_January</th>\n",
       "      <th>Month_July</th>\n",
       "      <th>Month_June</th>\n",
       "      <th>Month_March</th>\n",
       "      <th>Month_May</th>\n",
       "      <th>Month_November</th>\n",
       "      <th>Month_October</th>\n",
       "      <th>Month_September</th>\n",
       "    </tr>\n",
       "  </thead>\n",
       "  <tbody>\n",
       "    <tr>\n",
       "      <th>0</th>\n",
       "      <td>0</td>\n",
       "      <td>1</td>\n",
       "      <td>0</td>\n",
       "      <td>0</td>\n",
       "      <td>0</td>\n",
       "      <td>0</td>\n",
       "      <td>0</td>\n",
       "      <td>0</td>\n",
       "      <td>1</td>\n",
       "      <td>0</td>\n",
       "      <td>...</td>\n",
       "      <td>0</td>\n",
       "      <td>0</td>\n",
       "      <td>0</td>\n",
       "      <td>0</td>\n",
       "      <td>0</td>\n",
       "      <td>0</td>\n",
       "      <td>1</td>\n",
       "      <td>0</td>\n",
       "      <td>0</td>\n",
       "      <td>0</td>\n",
       "    </tr>\n",
       "    <tr>\n",
       "      <th>1</th>\n",
       "      <td>0</td>\n",
       "      <td>1</td>\n",
       "      <td>0</td>\n",
       "      <td>0</td>\n",
       "      <td>1</td>\n",
       "      <td>0</td>\n",
       "      <td>0</td>\n",
       "      <td>0</td>\n",
       "      <td>0</td>\n",
       "      <td>0</td>\n",
       "      <td>...</td>\n",
       "      <td>0</td>\n",
       "      <td>0</td>\n",
       "      <td>0</td>\n",
       "      <td>1</td>\n",
       "      <td>0</td>\n",
       "      <td>0</td>\n",
       "      <td>0</td>\n",
       "      <td>0</td>\n",
       "      <td>0</td>\n",
       "      <td>0</td>\n",
       "    </tr>\n",
       "    <tr>\n",
       "      <th>2</th>\n",
       "      <td>0</td>\n",
       "      <td>1</td>\n",
       "      <td>0</td>\n",
       "      <td>0</td>\n",
       "      <td>0</td>\n",
       "      <td>1</td>\n",
       "      <td>0</td>\n",
       "      <td>0</td>\n",
       "      <td>0</td>\n",
       "      <td>0</td>\n",
       "      <td>...</td>\n",
       "      <td>0</td>\n",
       "      <td>0</td>\n",
       "      <td>0</td>\n",
       "      <td>0</td>\n",
       "      <td>0</td>\n",
       "      <td>0</td>\n",
       "      <td>0</td>\n",
       "      <td>0</td>\n",
       "      <td>0</td>\n",
       "      <td>0</td>\n",
       "    </tr>\n",
       "    <tr>\n",
       "      <th>3</th>\n",
       "      <td>0</td>\n",
       "      <td>0</td>\n",
       "      <td>1</td>\n",
       "      <td>0</td>\n",
       "      <td>1</td>\n",
       "      <td>0</td>\n",
       "      <td>0</td>\n",
       "      <td>0</td>\n",
       "      <td>0</td>\n",
       "      <td>0</td>\n",
       "      <td>...</td>\n",
       "      <td>0</td>\n",
       "      <td>0</td>\n",
       "      <td>0</td>\n",
       "      <td>0</td>\n",
       "      <td>1</td>\n",
       "      <td>0</td>\n",
       "      <td>0</td>\n",
       "      <td>0</td>\n",
       "      <td>0</td>\n",
       "      <td>0</td>\n",
       "    </tr>\n",
       "    <tr>\n",
       "      <th>4</th>\n",
       "      <td>0</td>\n",
       "      <td>1</td>\n",
       "      <td>0</td>\n",
       "      <td>0</td>\n",
       "      <td>0</td>\n",
       "      <td>0</td>\n",
       "      <td>0</td>\n",
       "      <td>0</td>\n",
       "      <td>1</td>\n",
       "      <td>0</td>\n",
       "      <td>...</td>\n",
       "      <td>0</td>\n",
       "      <td>0</td>\n",
       "      <td>0</td>\n",
       "      <td>0</td>\n",
       "      <td>0</td>\n",
       "      <td>0</td>\n",
       "      <td>0</td>\n",
       "      <td>0</td>\n",
       "      <td>0</td>\n",
       "      <td>0</td>\n",
       "    </tr>\n",
       "    <tr>\n",
       "      <th>...</th>\n",
       "      <td>...</td>\n",
       "      <td>...</td>\n",
       "      <td>...</td>\n",
       "      <td>...</td>\n",
       "      <td>...</td>\n",
       "      <td>...</td>\n",
       "      <td>...</td>\n",
       "      <td>...</td>\n",
       "      <td>...</td>\n",
       "      <td>...</td>\n",
       "      <td>...</td>\n",
       "      <td>...</td>\n",
       "      <td>...</td>\n",
       "      <td>...</td>\n",
       "      <td>...</td>\n",
       "      <td>...</td>\n",
       "      <td>...</td>\n",
       "      <td>...</td>\n",
       "      <td>...</td>\n",
       "      <td>...</td>\n",
       "      <td>...</td>\n",
       "    </tr>\n",
       "    <tr>\n",
       "      <th>199995</th>\n",
       "      <td>0</td>\n",
       "      <td>0</td>\n",
       "      <td>1</td>\n",
       "      <td>0</td>\n",
       "      <td>0</td>\n",
       "      <td>0</td>\n",
       "      <td>0</td>\n",
       "      <td>1</td>\n",
       "      <td>0</td>\n",
       "      <td>0</td>\n",
       "      <td>...</td>\n",
       "      <td>0</td>\n",
       "      <td>0</td>\n",
       "      <td>0</td>\n",
       "      <td>0</td>\n",
       "      <td>0</td>\n",
       "      <td>0</td>\n",
       "      <td>0</td>\n",
       "      <td>0</td>\n",
       "      <td>1</td>\n",
       "      <td>0</td>\n",
       "    </tr>\n",
       "    <tr>\n",
       "      <th>199996</th>\n",
       "      <td>0</td>\n",
       "      <td>0</td>\n",
       "      <td>0</td>\n",
       "      <td>1</td>\n",
       "      <td>1</td>\n",
       "      <td>0</td>\n",
       "      <td>0</td>\n",
       "      <td>0</td>\n",
       "      <td>0</td>\n",
       "      <td>0</td>\n",
       "      <td>...</td>\n",
       "      <td>0</td>\n",
       "      <td>0</td>\n",
       "      <td>0</td>\n",
       "      <td>0</td>\n",
       "      <td>0</td>\n",
       "      <td>1</td>\n",
       "      <td>0</td>\n",
       "      <td>0</td>\n",
       "      <td>0</td>\n",
       "      <td>0</td>\n",
       "    </tr>\n",
       "    <tr>\n",
       "      <th>199997</th>\n",
       "      <td>0</td>\n",
       "      <td>0</td>\n",
       "      <td>0</td>\n",
       "      <td>1</td>\n",
       "      <td>0</td>\n",
       "      <td>1</td>\n",
       "      <td>0</td>\n",
       "      <td>0</td>\n",
       "      <td>0</td>\n",
       "      <td>0</td>\n",
       "      <td>...</td>\n",
       "      <td>0</td>\n",
       "      <td>0</td>\n",
       "      <td>0</td>\n",
       "      <td>0</td>\n",
       "      <td>1</td>\n",
       "      <td>0</td>\n",
       "      <td>0</td>\n",
       "      <td>0</td>\n",
       "      <td>0</td>\n",
       "      <td>0</td>\n",
       "    </tr>\n",
       "    <tr>\n",
       "      <th>199998</th>\n",
       "      <td>1</td>\n",
       "      <td>0</td>\n",
       "      <td>0</td>\n",
       "      <td>0</td>\n",
       "      <td>0</td>\n",
       "      <td>0</td>\n",
       "      <td>0</td>\n",
       "      <td>0</td>\n",
       "      <td>0</td>\n",
       "      <td>0</td>\n",
       "      <td>...</td>\n",
       "      <td>0</td>\n",
       "      <td>0</td>\n",
       "      <td>0</td>\n",
       "      <td>0</td>\n",
       "      <td>0</td>\n",
       "      <td>0</td>\n",
       "      <td>1</td>\n",
       "      <td>0</td>\n",
       "      <td>0</td>\n",
       "      <td>0</td>\n",
       "    </tr>\n",
       "    <tr>\n",
       "      <th>199999</th>\n",
       "      <td>0</td>\n",
       "      <td>0</td>\n",
       "      <td>0</td>\n",
       "      <td>1</td>\n",
       "      <td>0</td>\n",
       "      <td>0</td>\n",
       "      <td>1</td>\n",
       "      <td>0</td>\n",
       "      <td>0</td>\n",
       "      <td>0</td>\n",
       "      <td>...</td>\n",
       "      <td>0</td>\n",
       "      <td>0</td>\n",
       "      <td>0</td>\n",
       "      <td>0</td>\n",
       "      <td>0</td>\n",
       "      <td>0</td>\n",
       "      <td>1</td>\n",
       "      <td>0</td>\n",
       "      <td>0</td>\n",
       "      <td>0</td>\n",
       "    </tr>\n",
       "  </tbody>\n",
       "</table>\n",
       "<p>193300 rows × 23 columns</p>\n",
       "</div>"
      ],
      "text/plain": [
       "        Time_Zone_Afternoon  Time_Zone_Evening  Time_Zone_Morning  \\\n",
       "0                         0                  1                  0   \n",
       "1                         0                  1                  0   \n",
       "2                         0                  1                  0   \n",
       "3                         0                  0                  1   \n",
       "4                         0                  1                  0   \n",
       "...                     ...                ...                ...   \n",
       "199995                    0                  0                  1   \n",
       "199996                    0                  0                  0   \n",
       "199997                    0                  0                  0   \n",
       "199998                    1                  0                  0   \n",
       "199999                    0                  0                  0   \n",
       "\n",
       "        Time_Zone_Night  Day_Friday  Day_Monday  Day_Saturday  Day_Sunday  \\\n",
       "0                     0           0           0             0           0   \n",
       "1                     0           1           0             0           0   \n",
       "2                     0           0           1             0           0   \n",
       "3                     0           1           0             0           0   \n",
       "4                     0           0           0             0           0   \n",
       "...                 ...         ...         ...           ...         ...   \n",
       "199995                0           0           0             0           1   \n",
       "199996                1           1           0             0           0   \n",
       "199997                1           0           1             0           0   \n",
       "199998                0           0           0             0           0   \n",
       "199999                1           0           0             1           0   \n",
       "\n",
       "        Day_Thursday  Day_Tuesday  ...  Month_December  Month_February  \\\n",
       "0                  1            0  ...               0               0   \n",
       "1                  0            0  ...               0               0   \n",
       "2                  0            0  ...               0               0   \n",
       "3                  0            0  ...               0               0   \n",
       "4                  1            0  ...               0               0   \n",
       "...              ...          ...  ...             ...             ...   \n",
       "199995             0            0  ...               0               0   \n",
       "199996             0            0  ...               0               0   \n",
       "199997             0            0  ...               0               0   \n",
       "199998             0            0  ...               0               0   \n",
       "199999             0            0  ...               0               0   \n",
       "\n",
       "        Month_January  Month_July  Month_June  Month_March  Month_May  \\\n",
       "0                   0           0           0            0          1   \n",
       "1                   0           1           0            0          0   \n",
       "2                   0           0           0            0          0   \n",
       "3                   0           0           1            0          0   \n",
       "4                   0           0           0            0          0   \n",
       "...               ...         ...         ...          ...        ...   \n",
       "199995              0           0           0            0          0   \n",
       "199996              0           0           0            1          0   \n",
       "199997              0           0           1            0          0   \n",
       "199998              0           0           0            0          1   \n",
       "199999              0           0           0            0          1   \n",
       "\n",
       "        Month_November  Month_October  Month_September  \n",
       "0                    0              0                0  \n",
       "1                    0              0                0  \n",
       "2                    0              0                0  \n",
       "3                    0              0                0  \n",
       "4                    0              0                0  \n",
       "...                ...            ...              ...  \n",
       "199995               0              1                0  \n",
       "199996               0              0                0  \n",
       "199997               0              0                0  \n",
       "199998               0              0                0  \n",
       "199999               0              0                0  \n",
       "\n",
       "[193300 rows x 23 columns]"
      ]
     },
     "execution_count": 42,
     "metadata": {},
     "output_type": "execute_result"
    }
   ],
   "source": [
    "df_dum"
   ]
  },
  {
   "cell_type": "code",
   "execution_count": 43,
   "metadata": {
    "scrolled": true
   },
   "outputs": [
    {
     "name": "stdout",
     "output_type": "stream",
     "text": [
      "<class 'pandas.core.frame.DataFrame'>\n",
      "Index: 193300 entries, 0 to 199999\n",
      "Data columns (total 13 columns):\n",
      " #   Column             Non-Null Count   Dtype  \n",
      "---  ------             --------------   -----  \n",
      " 0   Keys               193300 non-null  int64  \n",
      " 1   Fare_Amount        193300 non-null  float64\n",
      " 2   Pickup_Longitude   193300 non-null  float64\n",
      " 3   Pickup_Latitude    193300 non-null  float64\n",
      " 4   Dropoff_Longitude  193300 non-null  float64\n",
      " 5   Dropoff_Latitude   193300 non-null  float64\n",
      " 6   Passenger_Count    193300 non-null  int64  \n",
      " 7   Year               193300 non-null  int32  \n",
      " 8   Month              193300 non-null  object \n",
      " 9   Hour               193300 non-null  int32  \n",
      " 10  Day                193300 non-null  object \n",
      " 11  Time_Zone          193300 non-null  object \n",
      " 12  Distance_Km        193300 non-null  float64\n",
      "dtypes: float64(6), int32(2), int64(2), object(3)\n",
      "memory usage: 19.2+ MB\n"
     ]
    }
   ],
   "source": [
    "df.info()"
   ]
  },
  {
   "cell_type": "code",
   "execution_count": 44,
   "metadata": {},
   "outputs": [
    {
     "data": {
      "text/html": [
       "<div>\n",
       "<style scoped>\n",
       "    .dataframe tbody tr th:only-of-type {\n",
       "        vertical-align: middle;\n",
       "    }\n",
       "\n",
       "    .dataframe tbody tr th {\n",
       "        vertical-align: top;\n",
       "    }\n",
       "\n",
       "    .dataframe thead th {\n",
       "        text-align: right;\n",
       "    }\n",
       "</style>\n",
       "<table border=\"1\" class=\"dataframe\">\n",
       "  <thead>\n",
       "    <tr style=\"text-align: right;\">\n",
       "      <th></th>\n",
       "      <th>Keys</th>\n",
       "      <th>Fare_Amount</th>\n",
       "      <th>Pickup_Longitude</th>\n",
       "      <th>Pickup_Latitude</th>\n",
       "      <th>Dropoff_Longitude</th>\n",
       "      <th>Dropoff_Latitude</th>\n",
       "      <th>Passenger_Count</th>\n",
       "      <th>Year</th>\n",
       "      <th>Month</th>\n",
       "      <th>Hour</th>\n",
       "      <th>Day</th>\n",
       "      <th>Time_Zone</th>\n",
       "      <th>Distance_Km</th>\n",
       "    </tr>\n",
       "  </thead>\n",
       "  <tbody>\n",
       "    <tr>\n",
       "      <th>0</th>\n",
       "      <td>24238194</td>\n",
       "      <td>7.5</td>\n",
       "      <td>-73.999817</td>\n",
       "      <td>40.738354</td>\n",
       "      <td>-73.999512</td>\n",
       "      <td>40.723217</td>\n",
       "      <td>1</td>\n",
       "      <td>2015</td>\n",
       "      <td>May</td>\n",
       "      <td>19</td>\n",
       "      <td>Thursday</td>\n",
       "      <td>Evening</td>\n",
       "      <td>1.683851</td>\n",
       "    </tr>\n",
       "    <tr>\n",
       "      <th>1</th>\n",
       "      <td>27835199</td>\n",
       "      <td>7.7</td>\n",
       "      <td>-73.994355</td>\n",
       "      <td>40.728225</td>\n",
       "      <td>-73.994710</td>\n",
       "      <td>40.750325</td>\n",
       "      <td>1</td>\n",
       "      <td>2009</td>\n",
       "      <td>July</td>\n",
       "      <td>20</td>\n",
       "      <td>Friday</td>\n",
       "      <td>Evening</td>\n",
       "      <td>2.458361</td>\n",
       "    </tr>\n",
       "    <tr>\n",
       "      <th>2</th>\n",
       "      <td>44984355</td>\n",
       "      <td>12.9</td>\n",
       "      <td>-74.005043</td>\n",
       "      <td>40.740770</td>\n",
       "      <td>-73.962565</td>\n",
       "      <td>40.772647</td>\n",
       "      <td>1</td>\n",
       "      <td>2009</td>\n",
       "      <td>August</td>\n",
       "      <td>21</td>\n",
       "      <td>Monday</td>\n",
       "      <td>Evening</td>\n",
       "      <td>5.037958</td>\n",
       "    </tr>\n",
       "    <tr>\n",
       "      <th>3</th>\n",
       "      <td>25894730</td>\n",
       "      <td>5.3</td>\n",
       "      <td>-73.976124</td>\n",
       "      <td>40.790844</td>\n",
       "      <td>-73.965316</td>\n",
       "      <td>40.803349</td>\n",
       "      <td>3</td>\n",
       "      <td>2009</td>\n",
       "      <td>June</td>\n",
       "      <td>8</td>\n",
       "      <td>Friday</td>\n",
       "      <td>Morning</td>\n",
       "      <td>1.662205</td>\n",
       "    </tr>\n",
       "    <tr>\n",
       "      <th>4</th>\n",
       "      <td>17610152</td>\n",
       "      <td>16.0</td>\n",
       "      <td>-73.925023</td>\n",
       "      <td>40.744085</td>\n",
       "      <td>-73.973082</td>\n",
       "      <td>40.761247</td>\n",
       "      <td>5</td>\n",
       "      <td>2014</td>\n",
       "      <td>August</td>\n",
       "      <td>17</td>\n",
       "      <td>Thursday</td>\n",
       "      <td>Evening</td>\n",
       "      <td>4.476855</td>\n",
       "    </tr>\n",
       "  </tbody>\n",
       "</table>\n",
       "</div>"
      ],
      "text/plain": [
       "       Keys  Fare_Amount  Pickup_Longitude  Pickup_Latitude  \\\n",
       "0  24238194          7.5        -73.999817        40.738354   \n",
       "1  27835199          7.7        -73.994355        40.728225   \n",
       "2  44984355         12.9        -74.005043        40.740770   \n",
       "3  25894730          5.3        -73.976124        40.790844   \n",
       "4  17610152         16.0        -73.925023        40.744085   \n",
       "\n",
       "   Dropoff_Longitude  Dropoff_Latitude  Passenger_Count  Year   Month  Hour  \\\n",
       "0         -73.999512         40.723217                1  2015     May    19   \n",
       "1         -73.994710         40.750325                1  2009    July    20   \n",
       "2         -73.962565         40.772647                1  2009  August    21   \n",
       "3         -73.965316         40.803349                3  2009    June     8   \n",
       "4         -73.973082         40.761247                5  2014  August    17   \n",
       "\n",
       "        Day Time_Zone  Distance_Km  \n",
       "0  Thursday   Evening     1.683851  \n",
       "1    Friday   Evening     2.458361  \n",
       "2    Monday   Evening     5.037958  \n",
       "3    Friday   Morning     1.662205  \n",
       "4  Thursday   Evening     4.476855  "
      ]
     },
     "execution_count": 44,
     "metadata": {},
     "output_type": "execute_result"
    }
   ],
   "source": [
    "df.head()"
   ]
  },
  {
   "cell_type": "code",
   "execution_count": 45,
   "metadata": {},
   "outputs": [],
   "source": [
    "df.drop(df[['Time_Zone', 'Day', 'Month', 'Pickup_Longitude', 'Pickup_Latitude', 'Dropoff_Longitude', 'Dropoff_Latitude']], axis = 1, inplace = True)"
   ]
  },
  {
   "cell_type": "code",
   "execution_count": 46,
   "metadata": {},
   "outputs": [],
   "source": [
    "df = pd.concat([df, df_dum], axis = 1)"
   ]
  },
  {
   "cell_type": "code",
   "execution_count": 47,
   "metadata": {},
   "outputs": [
    {
     "data": {
      "text/html": [
       "<div>\n",
       "<style scoped>\n",
       "    .dataframe tbody tr th:only-of-type {\n",
       "        vertical-align: middle;\n",
       "    }\n",
       "\n",
       "    .dataframe tbody tr th {\n",
       "        vertical-align: top;\n",
       "    }\n",
       "\n",
       "    .dataframe thead th {\n",
       "        text-align: right;\n",
       "    }\n",
       "</style>\n",
       "<table border=\"1\" class=\"dataframe\">\n",
       "  <thead>\n",
       "    <tr style=\"text-align: right;\">\n",
       "      <th></th>\n",
       "      <th>Keys</th>\n",
       "      <th>Fare_Amount</th>\n",
       "      <th>Passenger_Count</th>\n",
       "      <th>Year</th>\n",
       "      <th>Hour</th>\n",
       "      <th>Distance_Km</th>\n",
       "      <th>Time_Zone_Afternoon</th>\n",
       "      <th>Time_Zone_Evening</th>\n",
       "      <th>Time_Zone_Morning</th>\n",
       "      <th>Time_Zone_Night</th>\n",
       "      <th>...</th>\n",
       "      <th>Month_December</th>\n",
       "      <th>Month_February</th>\n",
       "      <th>Month_January</th>\n",
       "      <th>Month_July</th>\n",
       "      <th>Month_June</th>\n",
       "      <th>Month_March</th>\n",
       "      <th>Month_May</th>\n",
       "      <th>Month_November</th>\n",
       "      <th>Month_October</th>\n",
       "      <th>Month_September</th>\n",
       "    </tr>\n",
       "  </thead>\n",
       "  <tbody>\n",
       "    <tr>\n",
       "      <th>0</th>\n",
       "      <td>24238194</td>\n",
       "      <td>7.5</td>\n",
       "      <td>1</td>\n",
       "      <td>2015</td>\n",
       "      <td>19</td>\n",
       "      <td>1.683851</td>\n",
       "      <td>0</td>\n",
       "      <td>1</td>\n",
       "      <td>0</td>\n",
       "      <td>0</td>\n",
       "      <td>...</td>\n",
       "      <td>0</td>\n",
       "      <td>0</td>\n",
       "      <td>0</td>\n",
       "      <td>0</td>\n",
       "      <td>0</td>\n",
       "      <td>0</td>\n",
       "      <td>1</td>\n",
       "      <td>0</td>\n",
       "      <td>0</td>\n",
       "      <td>0</td>\n",
       "    </tr>\n",
       "    <tr>\n",
       "      <th>1</th>\n",
       "      <td>27835199</td>\n",
       "      <td>7.7</td>\n",
       "      <td>1</td>\n",
       "      <td>2009</td>\n",
       "      <td>20</td>\n",
       "      <td>2.458361</td>\n",
       "      <td>0</td>\n",
       "      <td>1</td>\n",
       "      <td>0</td>\n",
       "      <td>0</td>\n",
       "      <td>...</td>\n",
       "      <td>0</td>\n",
       "      <td>0</td>\n",
       "      <td>0</td>\n",
       "      <td>1</td>\n",
       "      <td>0</td>\n",
       "      <td>0</td>\n",
       "      <td>0</td>\n",
       "      <td>0</td>\n",
       "      <td>0</td>\n",
       "      <td>0</td>\n",
       "    </tr>\n",
       "    <tr>\n",
       "      <th>2</th>\n",
       "      <td>44984355</td>\n",
       "      <td>12.9</td>\n",
       "      <td>1</td>\n",
       "      <td>2009</td>\n",
       "      <td>21</td>\n",
       "      <td>5.037958</td>\n",
       "      <td>0</td>\n",
       "      <td>1</td>\n",
       "      <td>0</td>\n",
       "      <td>0</td>\n",
       "      <td>...</td>\n",
       "      <td>0</td>\n",
       "      <td>0</td>\n",
       "      <td>0</td>\n",
       "      <td>0</td>\n",
       "      <td>0</td>\n",
       "      <td>0</td>\n",
       "      <td>0</td>\n",
       "      <td>0</td>\n",
       "      <td>0</td>\n",
       "      <td>0</td>\n",
       "    </tr>\n",
       "    <tr>\n",
       "      <th>3</th>\n",
       "      <td>25894730</td>\n",
       "      <td>5.3</td>\n",
       "      <td>3</td>\n",
       "      <td>2009</td>\n",
       "      <td>8</td>\n",
       "      <td>1.662205</td>\n",
       "      <td>0</td>\n",
       "      <td>0</td>\n",
       "      <td>1</td>\n",
       "      <td>0</td>\n",
       "      <td>...</td>\n",
       "      <td>0</td>\n",
       "      <td>0</td>\n",
       "      <td>0</td>\n",
       "      <td>0</td>\n",
       "      <td>1</td>\n",
       "      <td>0</td>\n",
       "      <td>0</td>\n",
       "      <td>0</td>\n",
       "      <td>0</td>\n",
       "      <td>0</td>\n",
       "    </tr>\n",
       "    <tr>\n",
       "      <th>4</th>\n",
       "      <td>17610152</td>\n",
       "      <td>16.0</td>\n",
       "      <td>5</td>\n",
       "      <td>2014</td>\n",
       "      <td>17</td>\n",
       "      <td>4.476855</td>\n",
       "      <td>0</td>\n",
       "      <td>1</td>\n",
       "      <td>0</td>\n",
       "      <td>0</td>\n",
       "      <td>...</td>\n",
       "      <td>0</td>\n",
       "      <td>0</td>\n",
       "      <td>0</td>\n",
       "      <td>0</td>\n",
       "      <td>0</td>\n",
       "      <td>0</td>\n",
       "      <td>0</td>\n",
       "      <td>0</td>\n",
       "      <td>0</td>\n",
       "      <td>0</td>\n",
       "    </tr>\n",
       "  </tbody>\n",
       "</table>\n",
       "<p>5 rows × 29 columns</p>\n",
       "</div>"
      ],
      "text/plain": [
       "       Keys  Fare_Amount  Passenger_Count  Year  Hour  Distance_Km  \\\n",
       "0  24238194          7.5                1  2015    19     1.683851   \n",
       "1  27835199          7.7                1  2009    20     2.458361   \n",
       "2  44984355         12.9                1  2009    21     5.037958   \n",
       "3  25894730          5.3                3  2009     8     1.662205   \n",
       "4  17610152         16.0                5  2014    17     4.476855   \n",
       "\n",
       "   Time_Zone_Afternoon  Time_Zone_Evening  Time_Zone_Morning  Time_Zone_Night  \\\n",
       "0                    0                  1                  0                0   \n",
       "1                    0                  1                  0                0   \n",
       "2                    0                  1                  0                0   \n",
       "3                    0                  0                  1                0   \n",
       "4                    0                  1                  0                0   \n",
       "\n",
       "   ...  Month_December  Month_February  Month_January  Month_July  Month_June  \\\n",
       "0  ...               0               0              0           0           0   \n",
       "1  ...               0               0              0           1           0   \n",
       "2  ...               0               0              0           0           0   \n",
       "3  ...               0               0              0           0           1   \n",
       "4  ...               0               0              0           0           0   \n",
       "\n",
       "   Month_March  Month_May  Month_November  Month_October  Month_September  \n",
       "0            0          1               0              0                0  \n",
       "1            0          0               0              0                0  \n",
       "2            0          0               0              0                0  \n",
       "3            0          0               0              0                0  \n",
       "4            0          0               0              0                0  \n",
       "\n",
       "[5 rows x 29 columns]"
      ]
     },
     "execution_count": 47,
     "metadata": {},
     "output_type": "execute_result"
    }
   ],
   "source": [
    "df.head()"
   ]
  },
  {
   "cell_type": "code",
   "execution_count": 48,
   "metadata": {},
   "outputs": [],
   "source": [
    "df_x = df.drop('Fare_Amount' , axis = 1)"
   ]
  },
  {
   "cell_type": "code",
   "execution_count": 49,
   "metadata": {},
   "outputs": [],
   "source": [
    "df_y = df['Fare_Amount']"
   ]
  },
  {
   "cell_type": "code",
   "execution_count": 50,
   "metadata": {},
   "outputs": [
    {
     "name": "stdout",
     "output_type": "stream",
     "text": [
      "<class 'pandas.core.frame.DataFrame'>\n",
      "Index: 193300 entries, 0 to 199999\n",
      "Data columns (total 28 columns):\n",
      " #   Column               Non-Null Count   Dtype  \n",
      "---  ------               --------------   -----  \n",
      " 0   Keys                 193300 non-null  int64  \n",
      " 1   Passenger_Count      193300 non-null  int64  \n",
      " 2   Year                 193300 non-null  int32  \n",
      " 3   Hour                 193300 non-null  int32  \n",
      " 4   Distance_Km          193300 non-null  float64\n",
      " 5   Time_Zone_Afternoon  193300 non-null  int32  \n",
      " 6   Time_Zone_Evening    193300 non-null  int32  \n",
      " 7   Time_Zone_Morning    193300 non-null  int32  \n",
      " 8   Time_Zone_Night      193300 non-null  int32  \n",
      " 9   Day_Friday           193300 non-null  int32  \n",
      " 10  Day_Monday           193300 non-null  int32  \n",
      " 11  Day_Saturday         193300 non-null  int32  \n",
      " 12  Day_Sunday           193300 non-null  int32  \n",
      " 13  Day_Thursday         193300 non-null  int32  \n",
      " 14  Day_Tuesday          193300 non-null  int32  \n",
      " 15  Day_Wednesday        193300 non-null  int32  \n",
      " 16  Month_April          193300 non-null  int32  \n",
      " 17  Month_August         193300 non-null  int32  \n",
      " 18  Month_December       193300 non-null  int32  \n",
      " 19  Month_February       193300 non-null  int32  \n",
      " 20  Month_January        193300 non-null  int32  \n",
      " 21  Month_July           193300 non-null  int32  \n",
      " 22  Month_June           193300 non-null  int32  \n",
      " 23  Month_March          193300 non-null  int32  \n",
      " 24  Month_May            193300 non-null  int32  \n",
      " 25  Month_November       193300 non-null  int32  \n",
      " 26  Month_October        193300 non-null  int32  \n",
      " 27  Month_September      193300 non-null  int32  \n",
      "dtypes: float64(1), int32(25), int64(2)\n",
      "memory usage: 24.3 MB\n"
     ]
    }
   ],
   "source": [
    "df_x.info()"
   ]
  },
  {
   "cell_type": "code",
   "execution_count": 51,
   "metadata": {},
   "outputs": [
    {
     "data": {
      "text/plain": [
       "0          7.5\n",
       "1          7.7\n",
       "2         12.9\n",
       "3          5.3\n",
       "4         16.0\n",
       "          ... \n",
       "199995     3.3\n",
       "199996     7.5\n",
       "199997    30.9\n",
       "199998    14.5\n",
       "199999    14.1\n",
       "Name: Fare_Amount, Length: 193300, dtype: float64"
      ]
     },
     "execution_count": 51,
     "metadata": {},
     "output_type": "execute_result"
    }
   ],
   "source": [
    "df_y"
   ]
  },
  {
   "cell_type": "code",
   "execution_count": 52,
   "metadata": {},
   "outputs": [],
   "source": [
    "import pandas as pd, numpy as np \n",
    "import matplotlib.pyplot as plt, seaborn as sns\n",
    "%matplotlib inline\n",
    "sns.set_style('darkgrid')\n",
    "\n",
    "import datetime as dt, warnings\n",
    "warnings.filterwarnings(\"ignore\")"
   ]
  },
  {
   "cell_type": "code",
   "execution_count": 53,
   "metadata": {},
   "outputs": [],
   "source": [
    "from sklearn.linear_model import LinearRegression\n",
    "from sklearn.model_selection import train_test_split\n",
    "\n",
    "from sklearn.preprocessing import StandardScaler, MinMaxScaler\n",
    "from sklearn.metrics import mean_absolute_error, mean_squared_error, r2_score"
   ]
  },
  {
   "cell_type": "code",
   "execution_count": 54,
   "metadata": {},
   "outputs": [],
   "source": [
    "x_train, x_test, y_train, y_test = train_test_split(df_x, df_y, test_size = 0.2, random_state = 15)"
   ]
  },
  {
   "cell_type": "code",
   "execution_count": 55,
   "metadata": {},
   "outputs": [
    {
     "data": {
      "text/html": [
       "<style>#sk-container-id-1 {color: black;}#sk-container-id-1 pre{padding: 0;}#sk-container-id-1 div.sk-toggleable {background-color: white;}#sk-container-id-1 label.sk-toggleable__label {cursor: pointer;display: block;width: 100%;margin-bottom: 0;padding: 0.3em;box-sizing: border-box;text-align: center;}#sk-container-id-1 label.sk-toggleable__label-arrow:before {content: \"▸\";float: left;margin-right: 0.25em;color: #696969;}#sk-container-id-1 label.sk-toggleable__label-arrow:hover:before {color: black;}#sk-container-id-1 div.sk-estimator:hover label.sk-toggleable__label-arrow:before {color: black;}#sk-container-id-1 div.sk-toggleable__content {max-height: 0;max-width: 0;overflow: hidden;text-align: left;background-color: #f0f8ff;}#sk-container-id-1 div.sk-toggleable__content pre {margin: 0.2em;color: black;border-radius: 0.25em;background-color: #f0f8ff;}#sk-container-id-1 input.sk-toggleable__control:checked~div.sk-toggleable__content {max-height: 200px;max-width: 100%;overflow: auto;}#sk-container-id-1 input.sk-toggleable__control:checked~label.sk-toggleable__label-arrow:before {content: \"▾\";}#sk-container-id-1 div.sk-estimator input.sk-toggleable__control:checked~label.sk-toggleable__label {background-color: #d4ebff;}#sk-container-id-1 div.sk-label input.sk-toggleable__control:checked~label.sk-toggleable__label {background-color: #d4ebff;}#sk-container-id-1 input.sk-hidden--visually {border: 0;clip: rect(1px 1px 1px 1px);clip: rect(1px, 1px, 1px, 1px);height: 1px;margin: -1px;overflow: hidden;padding: 0;position: absolute;width: 1px;}#sk-container-id-1 div.sk-estimator {font-family: monospace;background-color: #f0f8ff;border: 1px dotted black;border-radius: 0.25em;box-sizing: border-box;margin-bottom: 0.5em;}#sk-container-id-1 div.sk-estimator:hover {background-color: #d4ebff;}#sk-container-id-1 div.sk-parallel-item::after {content: \"\";width: 100%;border-bottom: 1px solid gray;flex-grow: 1;}#sk-container-id-1 div.sk-label:hover label.sk-toggleable__label {background-color: #d4ebff;}#sk-container-id-1 div.sk-serial::before {content: \"\";position: absolute;border-left: 1px solid gray;box-sizing: border-box;top: 0;bottom: 0;left: 50%;z-index: 0;}#sk-container-id-1 div.sk-serial {display: flex;flex-direction: column;align-items: center;background-color: white;padding-right: 0.2em;padding-left: 0.2em;position: relative;}#sk-container-id-1 div.sk-item {position: relative;z-index: 1;}#sk-container-id-1 div.sk-parallel {display: flex;align-items: stretch;justify-content: center;background-color: white;position: relative;}#sk-container-id-1 div.sk-item::before, #sk-container-id-1 div.sk-parallel-item::before {content: \"\";position: absolute;border-left: 1px solid gray;box-sizing: border-box;top: 0;bottom: 0;left: 50%;z-index: -1;}#sk-container-id-1 div.sk-parallel-item {display: flex;flex-direction: column;z-index: 1;position: relative;background-color: white;}#sk-container-id-1 div.sk-parallel-item:first-child::after {align-self: flex-end;width: 50%;}#sk-container-id-1 div.sk-parallel-item:last-child::after {align-self: flex-start;width: 50%;}#sk-container-id-1 div.sk-parallel-item:only-child::after {width: 0;}#sk-container-id-1 div.sk-dashed-wrapped {border: 1px dashed gray;margin: 0 0.4em 0.5em 0.4em;box-sizing: border-box;padding-bottom: 0.4em;background-color: white;}#sk-container-id-1 div.sk-label label {font-family: monospace;font-weight: bold;display: inline-block;line-height: 1.2em;}#sk-container-id-1 div.sk-label-container {text-align: center;}#sk-container-id-1 div.sk-container {/* jupyter's `normalize.less` sets `[hidden] { display: none; }` but bootstrap.min.css set `[hidden] { display: none !important; }` so we also need the `!important` here to be able to override the default hidden behavior on the sphinx rendered scikit-learn.org. See: https://github.com/scikit-learn/scikit-learn/issues/21755 */display: inline-block !important;position: relative;}#sk-container-id-1 div.sk-text-repr-fallback {display: none;}</style><div id=\"sk-container-id-1\" class=\"sk-top-container\"><div class=\"sk-text-repr-fallback\"><pre>LinearRegression()</pre><b>In a Jupyter environment, please rerun this cell to show the HTML representation or trust the notebook. <br />On GitHub, the HTML representation is unable to render, please try loading this page with nbviewer.org.</b></div><div class=\"sk-container\" hidden><div class=\"sk-item\"><div class=\"sk-estimator sk-toggleable\"><input class=\"sk-toggleable__control sk-hidden--visually\" id=\"sk-estimator-id-1\" type=\"checkbox\" checked><label for=\"sk-estimator-id-1\" class=\"sk-toggleable__label sk-toggleable__label-arrow\">LinearRegression</label><div class=\"sk-toggleable__content\"><pre>LinearRegression()</pre></div></div></div></div></div>"
      ],
      "text/plain": [
       "LinearRegression()"
      ]
     },
     "execution_count": 55,
     "metadata": {},
     "output_type": "execute_result"
    }
   ],
   "source": [
    "regression = LinearRegression()\n",
    "regression"
   ]
  },
  {
   "cell_type": "code",
   "execution_count": 56,
   "metadata": {},
   "outputs": [],
   "source": [
    "df['Distance_Km'] = df['Distance_Km'].astype(int)\n",
    "df['Fare_Amount'] = df['Fare_Amount'].astype(int)"
   ]
  },
  {
   "cell_type": "code",
   "execution_count": 57,
   "metadata": {},
   "outputs": [
    {
     "data": {
      "text/plain": [
       "Keys                   int64\n",
       "Fare_Amount            int32\n",
       "Passenger_Count        int64\n",
       "Year                   int32\n",
       "Hour                   int32\n",
       "Distance_Km            int32\n",
       "Time_Zone_Afternoon    int32\n",
       "Time_Zone_Evening      int32\n",
       "Time_Zone_Morning      int32\n",
       "Time_Zone_Night        int32\n",
       "Day_Friday             int32\n",
       "Day_Monday             int32\n",
       "Day_Saturday           int32\n",
       "Day_Sunday             int32\n",
       "Day_Thursday           int32\n",
       "Day_Tuesday            int32\n",
       "Day_Wednesday          int32\n",
       "Month_April            int32\n",
       "Month_August           int32\n",
       "Month_December         int32\n",
       "Month_February         int32\n",
       "Month_January          int32\n",
       "Month_July             int32\n",
       "Month_June             int32\n",
       "Month_March            int32\n",
       "Month_May              int32\n",
       "Month_November         int32\n",
       "Month_October          int32\n",
       "Month_September        int32\n",
       "dtype: object"
      ]
     },
     "execution_count": 57,
     "metadata": {},
     "output_type": "execute_result"
    }
   ],
   "source": [
    "df.dtypes"
   ]
  },
  {
   "cell_type": "code",
   "execution_count": null,
   "metadata": {},
   "outputs": [],
   "source": []
  },
  {
   "cell_type": "code",
   "execution_count": 58,
   "metadata": {},
   "outputs": [],
   "source": [
    "model = regression.fit(x_train, y_train)"
   ]
  },
  {
   "cell_type": "code",
   "execution_count": 59,
   "metadata": {},
   "outputs": [],
   "source": [
    "y_train_pred = regression.predict(x_train)"
   ]
  },
  {
   "cell_type": "code",
   "execution_count": 60,
   "metadata": {},
   "outputs": [
    {
     "name": "stdout",
     "output_type": "stream",
     "text": [
      "Value of MAE :  2.1304500483985813\n",
      "Value of MSE :  15.621867989665299\n",
      "R2 Error:  0.8051097738982113\n"
     ]
    }
   ],
   "source": [
    "print(\"Value of MAE : \", mean_absolute_error(y_train, y_train_pred))\n",
    "print(\"Value of MSE : \", mean_squared_error(y_train, y_train_pred))\n",
    "print(\"R2 Error: \", r2_score(y_train, y_train_pred))"
   ]
  },
  {
   "cell_type": "code",
   "execution_count": 61,
   "metadata": {},
   "outputs": [],
   "source": [
    "y_test_pred = regression.predict(x_test)"
   ]
  },
  {
   "cell_type": "code",
   "execution_count": 62,
   "metadata": {},
   "outputs": [
    {
     "name": "stdout",
     "output_type": "stream",
     "text": [
      "Value of MAE :  2.108914551749763\n",
      "Value of MSE :  15.280741024061024\n",
      "R2 Error:  0.8073624833996205\n"
     ]
    }
   ],
   "source": [
    "print(\"Value of MAE : \", mean_absolute_error(y_test, y_test_pred))\n",
    "print(\"Value of MSE : \", mean_squared_error(y_test, y_test_pred))\n",
    "print(\"R2 Error: \", r2_score(y_test, y_test_pred))"
   ]
  },
  {
   "cell_type": "code",
   "execution_count": null,
   "metadata": {},
   "outputs": [],
   "source": []
  },
  {
   "cell_type": "code",
   "execution_count": null,
   "metadata": {},
   "outputs": [],
   "source": []
  },
  {
   "cell_type": "code",
   "execution_count": 63,
   "metadata": {},
   "outputs": [],
   "source": [
    "from xgboost import XGBRegressor"
   ]
  },
  {
   "cell_type": "code",
   "execution_count": 64,
   "metadata": {},
   "outputs": [],
   "source": [
    "model_2 = XGBRegressor()"
   ]
  },
  {
   "cell_type": "code",
   "execution_count": 65,
   "metadata": {},
   "outputs": [
    {
     "data": {
      "text/html": [
       "<style>#sk-container-id-2 {color: black;}#sk-container-id-2 pre{padding: 0;}#sk-container-id-2 div.sk-toggleable {background-color: white;}#sk-container-id-2 label.sk-toggleable__label {cursor: pointer;display: block;width: 100%;margin-bottom: 0;padding: 0.3em;box-sizing: border-box;text-align: center;}#sk-container-id-2 label.sk-toggleable__label-arrow:before {content: \"▸\";float: left;margin-right: 0.25em;color: #696969;}#sk-container-id-2 label.sk-toggleable__label-arrow:hover:before {color: black;}#sk-container-id-2 div.sk-estimator:hover label.sk-toggleable__label-arrow:before {color: black;}#sk-container-id-2 div.sk-toggleable__content {max-height: 0;max-width: 0;overflow: hidden;text-align: left;background-color: #f0f8ff;}#sk-container-id-2 div.sk-toggleable__content pre {margin: 0.2em;color: black;border-radius: 0.25em;background-color: #f0f8ff;}#sk-container-id-2 input.sk-toggleable__control:checked~div.sk-toggleable__content {max-height: 200px;max-width: 100%;overflow: auto;}#sk-container-id-2 input.sk-toggleable__control:checked~label.sk-toggleable__label-arrow:before {content: \"▾\";}#sk-container-id-2 div.sk-estimator input.sk-toggleable__control:checked~label.sk-toggleable__label {background-color: #d4ebff;}#sk-container-id-2 div.sk-label input.sk-toggleable__control:checked~label.sk-toggleable__label {background-color: #d4ebff;}#sk-container-id-2 input.sk-hidden--visually {border: 0;clip: rect(1px 1px 1px 1px);clip: rect(1px, 1px, 1px, 1px);height: 1px;margin: -1px;overflow: hidden;padding: 0;position: absolute;width: 1px;}#sk-container-id-2 div.sk-estimator {font-family: monospace;background-color: #f0f8ff;border: 1px dotted black;border-radius: 0.25em;box-sizing: border-box;margin-bottom: 0.5em;}#sk-container-id-2 div.sk-estimator:hover {background-color: #d4ebff;}#sk-container-id-2 div.sk-parallel-item::after {content: \"\";width: 100%;border-bottom: 1px solid gray;flex-grow: 1;}#sk-container-id-2 div.sk-label:hover label.sk-toggleable__label {background-color: #d4ebff;}#sk-container-id-2 div.sk-serial::before {content: \"\";position: absolute;border-left: 1px solid gray;box-sizing: border-box;top: 0;bottom: 0;left: 50%;z-index: 0;}#sk-container-id-2 div.sk-serial {display: flex;flex-direction: column;align-items: center;background-color: white;padding-right: 0.2em;padding-left: 0.2em;position: relative;}#sk-container-id-2 div.sk-item {position: relative;z-index: 1;}#sk-container-id-2 div.sk-parallel {display: flex;align-items: stretch;justify-content: center;background-color: white;position: relative;}#sk-container-id-2 div.sk-item::before, #sk-container-id-2 div.sk-parallel-item::before {content: \"\";position: absolute;border-left: 1px solid gray;box-sizing: border-box;top: 0;bottom: 0;left: 50%;z-index: -1;}#sk-container-id-2 div.sk-parallel-item {display: flex;flex-direction: column;z-index: 1;position: relative;background-color: white;}#sk-container-id-2 div.sk-parallel-item:first-child::after {align-self: flex-end;width: 50%;}#sk-container-id-2 div.sk-parallel-item:last-child::after {align-self: flex-start;width: 50%;}#sk-container-id-2 div.sk-parallel-item:only-child::after {width: 0;}#sk-container-id-2 div.sk-dashed-wrapped {border: 1px dashed gray;margin: 0 0.4em 0.5em 0.4em;box-sizing: border-box;padding-bottom: 0.4em;background-color: white;}#sk-container-id-2 div.sk-label label {font-family: monospace;font-weight: bold;display: inline-block;line-height: 1.2em;}#sk-container-id-2 div.sk-label-container {text-align: center;}#sk-container-id-2 div.sk-container {/* jupyter's `normalize.less` sets `[hidden] { display: none; }` but bootstrap.min.css set `[hidden] { display: none !important; }` so we also need the `!important` here to be able to override the default hidden behavior on the sphinx rendered scikit-learn.org. See: https://github.com/scikit-learn/scikit-learn/issues/21755 */display: inline-block !important;position: relative;}#sk-container-id-2 div.sk-text-repr-fallback {display: none;}</style><div id=\"sk-container-id-2\" class=\"sk-top-container\"><div class=\"sk-text-repr-fallback\"><pre>XGBRegressor(base_score=None, booster=None, callbacks=None,\n",
       "             colsample_bylevel=None, colsample_bynode=None,\n",
       "             colsample_bytree=None, device=None, early_stopping_rounds=None,\n",
       "             enable_categorical=False, eval_metric=None, feature_types=None,\n",
       "             gamma=None, grow_policy=None, importance_type=None,\n",
       "             interaction_constraints=None, learning_rate=None, max_bin=None,\n",
       "             max_cat_threshold=None, max_cat_to_onehot=None,\n",
       "             max_delta_step=None, max_depth=None, max_leaves=None,\n",
       "             min_child_weight=None, missing=nan, monotone_constraints=None,\n",
       "             multi_strategy=None, n_estimators=None, n_jobs=None,\n",
       "             num_parallel_tree=None, random_state=None, ...)</pre><b>In a Jupyter environment, please rerun this cell to show the HTML representation or trust the notebook. <br />On GitHub, the HTML representation is unable to render, please try loading this page with nbviewer.org.</b></div><div class=\"sk-container\" hidden><div class=\"sk-item\"><div class=\"sk-estimator sk-toggleable\"><input class=\"sk-toggleable__control sk-hidden--visually\" id=\"sk-estimator-id-2\" type=\"checkbox\" checked><label for=\"sk-estimator-id-2\" class=\"sk-toggleable__label sk-toggleable__label-arrow\">XGBRegressor</label><div class=\"sk-toggleable__content\"><pre>XGBRegressor(base_score=None, booster=None, callbacks=None,\n",
       "             colsample_bylevel=None, colsample_bynode=None,\n",
       "             colsample_bytree=None, device=None, early_stopping_rounds=None,\n",
       "             enable_categorical=False, eval_metric=None, feature_types=None,\n",
       "             gamma=None, grow_policy=None, importance_type=None,\n",
       "             interaction_constraints=None, learning_rate=None, max_bin=None,\n",
       "             max_cat_threshold=None, max_cat_to_onehot=None,\n",
       "             max_delta_step=None, max_depth=None, max_leaves=None,\n",
       "             min_child_weight=None, missing=nan, monotone_constraints=None,\n",
       "             multi_strategy=None, n_estimators=None, n_jobs=None,\n",
       "             num_parallel_tree=None, random_state=None, ...)</pre></div></div></div></div></div>"
      ],
      "text/plain": [
       "XGBRegressor(base_score=None, booster=None, callbacks=None,\n",
       "             colsample_bylevel=None, colsample_bynode=None,\n",
       "             colsample_bytree=None, device=None, early_stopping_rounds=None,\n",
       "             enable_categorical=False, eval_metric=None, feature_types=None,\n",
       "             gamma=None, grow_policy=None, importance_type=None,\n",
       "             interaction_constraints=None, learning_rate=None, max_bin=None,\n",
       "             max_cat_threshold=None, max_cat_to_onehot=None,\n",
       "             max_delta_step=None, max_depth=None, max_leaves=None,\n",
       "             min_child_weight=None, missing=nan, monotone_constraints=None,\n",
       "             multi_strategy=None, n_estimators=None, n_jobs=None,\n",
       "             num_parallel_tree=None, random_state=None, ...)"
      ]
     },
     "execution_count": 65,
     "metadata": {},
     "output_type": "execute_result"
    }
   ],
   "source": [
    "model_2.fit(x_train, y_train)"
   ]
  },
  {
   "cell_type": "code",
   "execution_count": 66,
   "metadata": {},
   "outputs": [],
   "source": [
    "y_train_pred = model_2.predict(x_train)"
   ]
  },
  {
   "cell_type": "code",
   "execution_count": 67,
   "metadata": {},
   "outputs": [
    {
     "name": "stdout",
     "output_type": "stream",
     "text": [
      "Value of MAE :  1.8396473581237796\n",
      "Value of MSE :  10.588157956920035\n",
      "R2 Error:  0.8679076983885197\n"
     ]
    }
   ],
   "source": [
    "print(\"Value of MAE : \", mean_absolute_error(y_train, y_train_pred))\n",
    "print(\"Value of MSE : \", mean_squared_error(y_train, y_train_pred))\n",
    "print(\"R2 Error: \", r2_score(y_train, y_train_pred))"
   ]
  },
  {
   "cell_type": "code",
   "execution_count": 68,
   "metadata": {},
   "outputs": [],
   "source": [
    "y_test_pred = model_2.predict(x_test)"
   ]
  },
  {
   "cell_type": "code",
   "execution_count": 69,
   "metadata": {},
   "outputs": [
    {
     "name": "stdout",
     "output_type": "stream",
     "text": [
      "Value of MAE :  1.9687782733371006\n",
      "Value of MSE :  13.42415051185989\n",
      "R2 Error:  0.8307676955585793\n"
     ]
    }
   ],
   "source": [
    "print(\"Value of MAE : \", mean_absolute_error(y_test, y_test_pred))\n",
    "print(\"Value of MSE : \", mean_squared_error(y_test, y_test_pred))\n",
    "print(\"R2 Error: \", r2_score(y_test, y_test_pred))"
   ]
  },
  {
   "cell_type": "code",
   "execution_count": null,
   "metadata": {},
   "outputs": [],
   "source": []
  },
  {
   "cell_type": "code",
   "execution_count": null,
   "metadata": {},
   "outputs": [],
   "source": []
  },
  {
   "cell_type": "code",
   "execution_count": null,
   "metadata": {},
   "outputs": [],
   "source": []
  },
  {
   "cell_type": "code",
   "execution_count": null,
   "metadata": {},
   "outputs": [],
   "source": []
  }
 ],
 "metadata": {
  "colab": {
   "authorship_tag": "ABX9TyPQZVGlBjwvSzGHVKPsVi6s",
   "provenance": []
  },
  "kernelspec": {
   "display_name": "Python 3 (ipykernel)",
   "language": "python",
   "name": "python3"
  },
  "language_info": {
   "codemirror_mode": {
    "name": "ipython",
    "version": 3
   },
   "file_extension": ".py",
   "mimetype": "text/x-python",
   "name": "python",
   "nbconvert_exporter": "python",
   "pygments_lexer": "ipython3",
   "version": "3.12.7"
  }
 },
 "nbformat": 4,
 "nbformat_minor": 4
}
